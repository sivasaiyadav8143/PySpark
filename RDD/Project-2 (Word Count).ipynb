{
 "cells": [
  {
   "cell_type": "code",
   "execution_count": 1,
   "id": "5061fc8a",
   "metadata": {},
   "outputs": [],
   "source": [
    "from pyspark import SparkConf, SparkContext\n",
    "conf = SparkConf().setAppName('groupBykey')\n",
    "sc = SparkContext.getOrCreate(conf)"
   ]
  },
  {
   "cell_type": "code",
   "execution_count": 5,
   "id": "017dee19",
   "metadata": {},
   "outputs": [
    {
     "data": {
      "text/plain": [
       "['Hello Pyspark.  ',\n",
       " 'I am learning Pyspark. ',\n",
       " 'This is Line 1',\n",
       " 'This is Line 2']"
      ]
     },
     "execution_count": 5,
     "metadata": {},
     "output_type": "execute_result"
    }
   ],
   "source": [
    "rdd = sc.textFile('D:\\Sample.txt')\n",
    "rdd.collect()"
   ]
  },
  {
   "cell_type": "code",
   "execution_count": 12,
   "id": "e9e4d6d8",
   "metadata": {},
   "outputs": [
    {
     "data": {
      "text/plain": [
       "[('Hello', 1),\n",
       " ('Pyspark.', 1),\n",
       " ('I', 1),\n",
       " ('am', 1),\n",
       " ('learning', 1),\n",
       " ('Pyspark.', 1),\n",
       " ('This', 1),\n",
       " ('is', 1),\n",
       " ('Line', 1),\n",
       " ('1', 1),\n",
       " ('This', 1),\n",
       " ('is', 1),\n",
       " ('Line', 1),\n",
       " ('2', 1)]"
      ]
     },
     "execution_count": 12,
     "metadata": {},
     "output_type": "execute_result"
    }
   ],
   "source": [
    "rdd1 = rdd.flatMap(lambda x: x.split(' ')).filter(lambda x: len(x)!= 0).map(lambda x:(x,1))\n",
    "rdd1.collect()"
   ]
  },
  {
   "cell_type": "code",
   "execution_count": 13,
   "id": "5d5c1e53",
   "metadata": {},
   "outputs": [
    {
     "data": {
      "text/plain": [
       "[('Hello', 1),\n",
       " ('Pyspark.', 2),\n",
       " ('am', 1),\n",
       " ('learning', 1),\n",
       " ('is', 2),\n",
       " ('Line', 2),\n",
       " ('1', 1),\n",
       " ('I', 1),\n",
       " ('This', 2),\n",
       " ('2', 1)]"
      ]
     },
     "execution_count": 13,
     "metadata": {},
     "output_type": "execute_result"
    }
   ],
   "source": [
    "rdd1.reduceByKey(lambda x,y : x+y).collect()"
   ]
  },
  {
   "cell_type": "code",
   "execution_count": null,
   "id": "e884836e",
   "metadata": {},
   "outputs": [],
   "source": []
  }
 ],
 "metadata": {
  "kernelspec": {
   "display_name": "Python 3 (ipykernel)",
   "language": "python",
   "name": "python3"
  },
  "language_info": {
   "codemirror_mode": {
    "name": "ipython",
    "version": 3
   },
   "file_extension": ".py",
   "mimetype": "text/x-python",
   "name": "python",
   "nbconvert_exporter": "python",
   "pygments_lexer": "ipython3",
   "version": "3.9.7"
  }
 },
 "nbformat": 4,
 "nbformat_minor": 5
}
