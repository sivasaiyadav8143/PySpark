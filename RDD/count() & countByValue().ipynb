{
 "cells": [
  {
   "cell_type": "code",
   "execution_count": 1,
   "id": "24c09739",
   "metadata": {},
   "outputs": [],
   "source": [
    "from pyspark import SparkConf, SparkContext\n",
    "conf = SparkConf().setAppName('groupBykey')\n",
    "sc = SparkContext.getOrCreate(conf)"
   ]
  },
  {
   "cell_type": "code",
   "execution_count": 2,
   "id": "96656264",
   "metadata": {},
   "outputs": [],
   "source": [
    "rdd = sc.textFile('D:\\Sample.txt')"
   ]
  },
  {
   "cell_type": "markdown",
   "id": "d0a77703",
   "metadata": {},
   "source": [
    "# count()"
   ]
  },
  {
   "cell_type": "markdown",
   "id": "fe30aab9",
   "metadata": {},
   "source": [
    "1. It is an action.\n",
    "2. returns the number of elements in the RDD"
   ]
  },
  {
   "cell_type": "code",
   "execution_count": 3,
   "id": "20eb596b",
   "metadata": {},
   "outputs": [
    {
     "data": {
      "text/plain": [
       "['Hello Pyspark.',\n",
       " 'I am learning Pyspark.',\n",
       " 'This is Line 1',\n",
       " 'This is Line 2']"
      ]
     },
     "execution_count": 3,
     "metadata": {},
     "output_type": "execute_result"
    }
   ],
   "source": [
    "rdd.collect()"
   ]
  },
  {
   "cell_type": "code",
   "execution_count": 4,
   "id": "b0cee826",
   "metadata": {},
   "outputs": [
    {
     "data": {
      "text/plain": [
       "4"
      ]
     },
     "execution_count": 4,
     "metadata": {},
     "output_type": "execute_result"
    }
   ],
   "source": [
    "rdd.count()"
   ]
  },
  {
   "cell_type": "code",
   "execution_count": 5,
   "id": "8994e26d",
   "metadata": {},
   "outputs": [
    {
     "data": {
      "text/plain": [
       "['Hello',\n",
       " 'Pyspark.',\n",
       " 'I',\n",
       " 'am',\n",
       " 'learning',\n",
       " 'Pyspark.',\n",
       " 'This',\n",
       " 'is',\n",
       " 'Line',\n",
       " '1',\n",
       " 'This',\n",
       " 'is',\n",
       " 'Line',\n",
       " '2']"
      ]
     },
     "execution_count": 5,
     "metadata": {},
     "output_type": "execute_result"
    }
   ],
   "source": [
    "rdd1 = rdd.flatMap(lambda x: x.split())\n",
    "rdd1.collect()"
   ]
  },
  {
   "cell_type": "code",
   "execution_count": 6,
   "id": "1478f64d",
   "metadata": {},
   "outputs": [
    {
     "data": {
      "text/plain": [
       "14"
      ]
     },
     "execution_count": 6,
     "metadata": {},
     "output_type": "execute_result"
    }
   ],
   "source": [
    "rdd1.count()"
   ]
  },
  {
   "cell_type": "markdown",
   "id": "75580cbf",
   "metadata": {},
   "source": [
    "# countByValue()"
   ]
  },
  {
   "cell_type": "markdown",
   "id": "c28dab62",
   "metadata": {},
   "source": [
    "1. It is an action.\n",
    "2. It return the count of each unique value in the RDD as a dictionary of (value, count) pairs. "
   ]
  },
  {
   "cell_type": "code",
   "execution_count": 8,
   "id": "a38165a2",
   "metadata": {},
   "outputs": [
    {
     "data": {
      "text/plain": [
       "['Hello',\n",
       " 'Pyspark.',\n",
       " 'I',\n",
       " 'am',\n",
       " 'learning',\n",
       " 'Pyspark.',\n",
       " 'This',\n",
       " 'is',\n",
       " 'Line',\n",
       " '1',\n",
       " 'This',\n",
       " 'is',\n",
       " 'Line',\n",
       " '2']"
      ]
     },
     "execution_count": 8,
     "metadata": {},
     "output_type": "execute_result"
    }
   ],
   "source": [
    "flat_rdd = rdd.flatMap(lambda x: x.split())\n",
    "flat_rdd.collect()"
   ]
  },
  {
   "cell_type": "code",
   "execution_count": 13,
   "id": "1807321e",
   "metadata": {},
   "outputs": [
    {
     "data": {
      "text/plain": [
       "defaultdict(int,\n",
       "            {'Hello': 1,\n",
       "             'Pyspark.': 2,\n",
       "             'I': 1,\n",
       "             'am': 1,\n",
       "             'learning': 1,\n",
       "             'This': 2,\n",
       "             'is': 2,\n",
       "             'Line': 2,\n",
       "             '1': 1,\n",
       "             '2': 1})"
      ]
     },
     "execution_count": 13,
     "metadata": {},
     "output_type": "execute_result"
    }
   ],
   "source": [
    "flat_rdd.countByValue()"
   ]
  },
  {
   "cell_type": "code",
   "execution_count": null,
   "id": "977b34d2",
   "metadata": {},
   "outputs": [],
   "source": []
  }
 ],
 "metadata": {
  "kernelspec": {
   "display_name": "Python 3 (ipykernel)",
   "language": "python",
   "name": "python3"
  },
  "language_info": {
   "codemirror_mode": {
    "name": "ipython",
    "version": 3
   },
   "file_extension": ".py",
   "mimetype": "text/x-python",
   "name": "python",
   "nbconvert_exporter": "python",
   "pygments_lexer": "ipython3",
   "version": "3.9.7"
  }
 },
 "nbformat": 4,
 "nbformat_minor": 5
}
