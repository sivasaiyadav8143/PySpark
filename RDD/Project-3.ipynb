{
 "cells": [
  {
   "cell_type": "code",
   "execution_count": 1,
   "id": "4c1b0bbd",
   "metadata": {},
   "outputs": [],
   "source": [
    "from pyspark import SparkConf, SparkContext\n",
    "conf = SparkConf().setAppName('reduceByKey')\n",
    "sc = SparkContext.getOrCreate(conf)"
   ]
  },
  {
   "cell_type": "code",
   "execution_count": 17,
   "id": "a7898873",
   "metadata": {},
   "outputs": [
    {
     "data": {
      "text/plain": [
       "['age,gender,name,course,roll,marks,email',\n",
       " '28,Female,Hubert Oliveras,DB,02984,59,Annika Hoffman_Naoma Fritts@OOP.com',\n",
       " '29,Female,Toshiko Hillyard,Cloud,12899,62,Margene Moores_Marylee Capasso@DB.com',\n",
       " '28,Male,Celeste Lollis,PF,21267,45,Jeannetta Golden_Jenna Montague@DSA.com']"
      ]
     },
     "execution_count": 17,
     "metadata": {},
     "output_type": "execute_result"
    }
   ],
   "source": [
    "rdd = sc.textFile('C:/Users/Sivasai.M/Music/files/StudentData.csv')\n",
    "rdd.collect()[:4]"
   ]
  },
  {
   "cell_type": "code",
   "execution_count": 20,
   "id": "85934e28",
   "metadata": {},
   "outputs": [
    {
     "data": {
      "text/plain": [
       "['28,Female,Hubert Oliveras,DB,02984,59,Annika Hoffman_Naoma Fritts@OOP.com',\n",
       " '29,Female,Toshiko Hillyard,Cloud,12899,62,Margene Moores_Marylee Capasso@DB.com',\n",
       " '28,Male,Celeste Lollis,PF,21267,45,Jeannetta Golden_Jenna Montague@DSA.com',\n",
       " '29,Female,Elenore Choy,DB,32877,29,Billi Clore_Mitzi Seldon@DB.com']"
      ]
     },
     "execution_count": 20,
     "metadata": {},
     "output_type": "execute_result"
    }
   ],
   "source": [
    "# Ignoring header from the CSV\n",
    "header = rdd.first()\n",
    "rdd2 = rdd.filter(lambda x : x != header)\n",
    "rdd2.collect()[:4]"
   ]
  },
  {
   "cell_type": "markdown",
   "id": "12a5aae0",
   "metadata": {},
   "source": [
    "# 1. Total Students"
   ]
  },
  {
   "cell_type": "code",
   "execution_count": 21,
   "id": "39302e54",
   "metadata": {},
   "outputs": [
    {
     "data": {
      "text/plain": [
       "1000"
      ]
     },
     "execution_count": 21,
     "metadata": {},
     "output_type": "execute_result"
    }
   ],
   "source": [
    "rdd2.count()"
   ]
  },
  {
   "cell_type": "markdown",
   "id": "f82c785a",
   "metadata": {},
   "source": [
    "# 2. Total Marks by Male and Female Student"
   ]
  },
  {
   "cell_type": "code",
   "execution_count": 29,
   "id": "b3665721",
   "metadata": {},
   "outputs": [
    {
     "data": {
      "text/plain": [
       "[('Female', 59), ('Female', 62), ('Male', 45), ('Female', 29)]"
      ]
     },
     "execution_count": 29,
     "metadata": {},
     "output_type": "execute_result"
    }
   ],
   "source": [
    "rdd3 = rdd2.map(lambda x : (x.split(',')[1],int(x.split(',')[-2])))\n",
    "rdd3.collect()[:4]"
   ]
  },
  {
   "cell_type": "code",
   "execution_count": 30,
   "id": "92f45918",
   "metadata": {},
   "outputs": [
    {
     "data": {
      "text/plain": [
       "[('Female', 29636), ('Male', 30461)]"
      ]
     },
     "execution_count": 30,
     "metadata": {},
     "output_type": "execute_result"
    }
   ],
   "source": [
    "rdd3.reduceByKey(lambda x,y: x+y).collect()"
   ]
  },
  {
   "cell_type": "markdown",
   "id": "04022fb5",
   "metadata": {},
   "source": [
    "# 3. Total Passed and Failed Students"
   ]
  },
  {
   "cell_type": "code",
   "execution_count": 31,
   "id": "4ce9291b",
   "metadata": {},
   "outputs": [
    {
     "data": {
      "text/plain": [
       "['28,Female,Hubert Oliveras,DB,02984,59,Annika Hoffman_Naoma Fritts@OOP.com',\n",
       " '29,Female,Toshiko Hillyard,Cloud,12899,62,Margene Moores_Marylee Capasso@DB.com']"
      ]
     },
     "execution_count": 31,
     "metadata": {},
     "output_type": "execute_result"
    }
   ],
   "source": [
    "rdd2.collect()[:2]"
   ]
  },
  {
   "cell_type": "code",
   "execution_count": 38,
   "id": "03bd4c21",
   "metadata": {},
   "outputs": [],
   "source": [
    "rdd3 = rdd2.map(lambda x: ('PASS' if int(x.split(',')[-2]) > 50 else 'FAIL',1))"
   ]
  },
  {
   "cell_type": "code",
   "execution_count": 39,
   "id": "eaed54f3",
   "metadata": {},
   "outputs": [
    {
     "data": {
      "text/plain": [
       "[('FAIL', 370), ('PASS', 630)]"
      ]
     },
     "execution_count": 39,
     "metadata": {},
     "output_type": "execute_result"
    }
   ],
   "source": [
    "rdd3.reduceByKey(lambda x,y : x+y).collect()"
   ]
  },
  {
   "cell_type": "markdown",
   "id": "beb9c3fa",
   "metadata": {},
   "source": [
    "# 4. Total Enrollments per Course"
   ]
  },
  {
   "cell_type": "code",
   "execution_count": 42,
   "id": "29db55d5",
   "metadata": {},
   "outputs": [
    {
     "data": {
      "text/plain": [
       "[('DB', 157),\n",
       " ('Cloud', 192),\n",
       " ('PF', 166),\n",
       " ('MVC', 157),\n",
       " ('OOP', 152),\n",
       " ('DSA', 176)]"
      ]
     },
     "execution_count": 42,
     "metadata": {},
     "output_type": "execute_result"
    }
   ],
   "source": [
    "rdd_enr = rdd2.map(lambda x : (x.split(',')[3],1))\n",
    "rdd_enr.reduceByKey(lambda x,y : x+y).collect()"
   ]
  },
  {
   "cell_type": "markdown",
   "id": "3221a4e4",
   "metadata": {},
   "source": [
    "# 5. Total Marks per Course"
   ]
  },
  {
   "cell_type": "code",
   "execution_count": 44,
   "id": "9281da3c",
   "metadata": {},
   "outputs": [
    {
     "data": {
      "text/plain": [
       "[('DB', 59), ('Cloud', 62), ('PF', 45), ('DB', 29)]"
      ]
     },
     "execution_count": 44,
     "metadata": {},
     "output_type": "execute_result"
    }
   ],
   "source": [
    "rdd_cour_marks = rdd2.map(lambda x: ((x.split(',')[3]),int(x.split(',')[-2])))\n",
    "rdd_cour_marks.collect()[:4]"
   ]
  },
  {
   "cell_type": "code",
   "execution_count": 45,
   "id": "f5a578b4",
   "metadata": {},
   "outputs": [
    {
     "data": {
      "text/plain": [
       "[('DB', 9270),\n",
       " ('Cloud', 11443),\n",
       " ('PF', 9933),\n",
       " ('MVC', 9585),\n",
       " ('OOP', 8916),\n",
       " ('DSA', 10950)]"
      ]
     },
     "execution_count": 45,
     "metadata": {},
     "output_type": "execute_result"
    }
   ],
   "source": [
    "rdd_cour_marks.reduceByKey(lambda x,y: x+y).collect()"
   ]
  },
  {
   "cell_type": "markdown",
   "id": "1e85149c",
   "metadata": {},
   "source": [
    "# 6. Average marks per Course"
   ]
  },
  {
   "cell_type": "code",
   "execution_count": 48,
   "id": "1e54086f",
   "metadata": {},
   "outputs": [
    {
     "data": {
      "text/plain": [
       "[('DB', (59, 1)), ('Cloud', (62, 1)), ('PF', (45, 1)), ('DB', (29, 1))]"
      ]
     },
     "execution_count": 48,
     "metadata": {},
     "output_type": "execute_result"
    }
   ],
   "source": [
    "rdd_avg = rdd2.map(lambda x: ((x.split(',')[3]),(int(x.split(',')[-2]),1)))\n",
    "rdd_avg.collect()[:4]"
   ]
  },
  {
   "cell_type": "code",
   "execution_count": 53,
   "id": "9906a482",
   "metadata": {},
   "outputs": [
    {
     "data": {
      "text/plain": [
       "[('DB', (9270, 157)),\n",
       " ('Cloud', (11443, 192)),\n",
       " ('PF', (9933, 166)),\n",
       " ('MVC', (9585, 157)),\n",
       " ('OOP', (8916, 152)),\n",
       " ('DSA', (10950, 176))]"
      ]
     },
     "execution_count": 53,
     "metadata": {},
     "output_type": "execute_result"
    }
   ],
   "source": [
    "rdd_avg1 = rdd_avg.reduceByKey(lambda x,y : (x[0]+y[0],x[1]+y[1]))\n",
    "rdd_avg1.collect()"
   ]
  },
  {
   "cell_type": "code",
   "execution_count": 57,
   "id": "05b725d8",
   "metadata": {},
   "outputs": [
    {
     "data": {
      "text/plain": [
       "[('DB', 59.044585987261144),\n",
       " ('Cloud', 59.598958333333336),\n",
       " ('PF', 59.83734939759036),\n",
       " ('MVC', 61.05095541401274),\n",
       " ('OOP', 58.6578947368421),\n",
       " ('DSA', 62.21590909090909)]"
      ]
     },
     "execution_count": 57,
     "metadata": {},
     "output_type": "execute_result"
    }
   ],
   "source": [
    "# method:1\n",
    "rdd_avg1.map(lambda x : (x[0],(x[1][0]/x[1][1]))).collect()"
   ]
  },
  {
   "cell_type": "code",
   "execution_count": 58,
   "id": "0d64401e",
   "metadata": {},
   "outputs": [
    {
     "data": {
      "text/plain": [
       "[('DB', 59.044585987261144),\n",
       " ('Cloud', 59.598958333333336),\n",
       " ('PF', 59.83734939759036),\n",
       " ('MVC', 61.05095541401274),\n",
       " ('OOP', 58.6578947368421),\n",
       " ('DSA', 62.21590909090909)]"
      ]
     },
     "execution_count": 58,
     "metadata": {},
     "output_type": "execute_result"
    }
   ],
   "source": [
    "# method:2\n",
    "rdd_avg1.mapValues(lambda x: x[0]/x[1]).collect()"
   ]
  },
  {
   "cell_type": "markdown",
   "id": "444c0d58",
   "metadata": {},
   "source": [
    "# 7. Finding Minimum and Maximum marks per Course"
   ]
  },
  {
   "cell_type": "code",
   "execution_count": 59,
   "id": "57baf8c9",
   "metadata": {},
   "outputs": [
    {
     "data": {
      "text/plain": [
       "[('DB', 59), ('Cloud', 62), ('PF', 45), ('DB', 29)]"
      ]
     },
     "execution_count": 59,
     "metadata": {},
     "output_type": "execute_result"
    }
   ],
   "source": [
    "rdd_min_max = rdd2.map(lambda x: ((x.split(',')[3]),int(x.split(',')[-2])))\n",
    "rdd_min_max.collect()[:4]"
   ]
  },
  {
   "cell_type": "code",
   "execution_count": 60,
   "id": "912fdcef",
   "metadata": {},
   "outputs": [
    {
     "data": {
      "text/plain": [
       "[('DB', 20), ('Cloud', 20), ('PF', 20), ('MVC', 22), ('OOP', 20), ('DSA', 20)]"
      ]
     },
     "execution_count": 60,
     "metadata": {},
     "output_type": "execute_result"
    }
   ],
   "source": [
    "rdd_min_max.reduceByKey(lambda x,y: x if x<y else y).collect()"
   ]
  },
  {
   "cell_type": "code",
   "execution_count": 62,
   "id": "4ba22c92",
   "metadata": {},
   "outputs": [
    {
     "data": {
      "text/plain": [
       "[('DB', 98), ('Cloud', 99), ('PF', 99), ('MVC', 99), ('OOP', 99), ('DSA', 99)]"
      ]
     },
     "execution_count": 62,
     "metadata": {},
     "output_type": "execute_result"
    }
   ],
   "source": [
    "rdd_min_max.reduceByKey(lambda x,y: x if x>y else y).collect()"
   ]
  },
  {
   "cell_type": "markdown",
   "id": "a6a04d98",
   "metadata": {},
   "source": [
    "# 8. Average Age of Male and Female Students"
   ]
  },
  {
   "cell_type": "code",
   "execution_count": 66,
   "id": "a8480916",
   "metadata": {},
   "outputs": [
    {
     "data": {
      "text/plain": [
       "[('Female', (28, 1)),\n",
       " ('Female', (29, 1)),\n",
       " ('Male', (28, 1)),\n",
       " ('Female', (29, 1))]"
      ]
     },
     "execution_count": 66,
     "metadata": {},
     "output_type": "execute_result"
    }
   ],
   "source": [
    "rdd_avg_age = rdd2.map(lambda x : (x.split(',')[1],(int(x.split(',')[0]),1)))\n",
    "rdd_avg_age.collect()[:4]"
   ]
  },
  {
   "cell_type": "code",
   "execution_count": 68,
   "id": "c8377aae",
   "metadata": {},
   "outputs": [
    {
     "data": {
      "text/plain": [
       "[('Female', (14273, 501)), ('Male', (14233, 499))]"
      ]
     },
     "execution_count": 68,
     "metadata": {},
     "output_type": "execute_result"
    }
   ],
   "source": [
    "rdd_avg_age1 = rdd_avg_age.reduceByKey(lambda x,y : (x[0]+y[0],x[1]+y[1]))\n",
    "rdd_avg_age1.collect()"
   ]
  },
  {
   "cell_type": "code",
   "execution_count": 70,
   "id": "78665a42",
   "metadata": {},
   "outputs": [
    {
     "data": {
      "text/plain": [
       "[('Female', 28.489021956087825), ('Male', 28.52304609218437)]"
      ]
     },
     "execution_count": 70,
     "metadata": {},
     "output_type": "execute_result"
    }
   ],
   "source": [
    "rdd_avg_age1.map(lambda x: (x[0],x[1][0]/x[1][1])).collect()"
   ]
  },
  {
   "cell_type": "code",
   "execution_count": null,
   "id": "196f0049",
   "metadata": {},
   "outputs": [],
   "source": []
  }
 ],
 "metadata": {
  "kernelspec": {
   "display_name": "Python 3 (ipykernel)",
   "language": "python",
   "name": "python3"
  },
  "language_info": {
   "codemirror_mode": {
    "name": "ipython",
    "version": 3
   },
   "file_extension": ".py",
   "mimetype": "text/x-python",
   "name": "python",
   "nbconvert_exporter": "python",
   "pygments_lexer": "ipython3",
   "version": "3.9.7"
  }
 },
 "nbformat": 4,
 "nbformat_minor": 5
}
