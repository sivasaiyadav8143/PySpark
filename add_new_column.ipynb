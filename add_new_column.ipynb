{
 "cells": [
  {
   "cell_type": "code",
   "execution_count": 5,
   "id": "253e6e9e",
   "metadata": {},
   "outputs": [],
   "source": [
    "from pyspark.sql import SparkSession\n",
    "from pyspark.sql.functions import *\n",
    "spark = SparkSession.builder.getOrCreate()"
   ]
  },
  {
   "cell_type": "code",
   "execution_count": 2,
   "id": "586b6dcb",
   "metadata": {},
   "outputs": [],
   "source": [
    "data = [\n",
    "        ('James','Smith','M',3000),\n",
    "        ('Anna','Rose','F',4100),\n",
    "        ('Robert','Williams','M',6200)\n",
    "       ]\n",
    "\n",
    "columns = [\"firstname\",\"lastname\",\"gender\",\"salary\"]"
   ]
  },
  {
   "cell_type": "code",
   "execution_count": 3,
   "id": "62b99153",
   "metadata": {},
   "outputs": [],
   "source": [
    "df = spark.createDataFrame(data=data,schema=columns)"
   ]
  },
  {
   "cell_type": "code",
   "execution_count": 4,
   "id": "a98833b9",
   "metadata": {},
   "outputs": [
    {
     "name": "stdout",
     "output_type": "stream",
     "text": [
      "+---------+--------+------+------+\n",
      "|firstname|lastname|gender|salary|\n",
      "+---------+--------+------+------+\n",
      "|    James|   Smith|     M|  3000|\n",
      "|     Anna|    Rose|     F|  4100|\n",
      "|   Robert|Williams|     M|  6200|\n",
      "+---------+--------+------+------+\n",
      "\n"
     ]
    }
   ],
   "source": [
    "df.show()"
   ]
  },
  {
   "cell_type": "code",
   "execution_count": 9,
   "id": "c6b019f9",
   "metadata": {},
   "outputs": [],
   "source": [
    "# Add new constanct column"
   ]
  },
  {
   "cell_type": "code",
   "execution_count": 6,
   "id": "1ba53888",
   "metadata": {},
   "outputs": [],
   "source": [
    "if 'bonus' not in df.columns:\n",
    "    df = df.withColumn('bonus',lit(0.3))"
   ]
  },
  {
   "cell_type": "code",
   "execution_count": 7,
   "id": "e8ddccf3",
   "metadata": {},
   "outputs": [
    {
     "name": "stdout",
     "output_type": "stream",
     "text": [
      "root\n",
      " |-- firstname: string (nullable = true)\n",
      " |-- lastname: string (nullable = true)\n",
      " |-- gender: string (nullable = true)\n",
      " |-- salary: long (nullable = true)\n",
      " |-- bonus: double (nullable = false)\n",
      "\n"
     ]
    }
   ],
   "source": [
    "df.printSchema()"
   ]
  },
  {
   "cell_type": "code",
   "execution_count": 8,
   "id": "219606b6",
   "metadata": {},
   "outputs": [
    {
     "name": "stdout",
     "output_type": "stream",
     "text": [
      "+---------+--------+------+------+-----+\n",
      "|firstname|lastname|gender|salary|bonus|\n",
      "+---------+--------+------+------+-----+\n",
      "|    James|   Smith|     M|  3000|  0.3|\n",
      "|     Anna|    Rose|     F|  4100|  0.3|\n",
      "|   Robert|Williams|     M|  6200|  0.3|\n",
      "+---------+--------+------+------+-----+\n",
      "\n"
     ]
    }
   ],
   "source": [
    "df.show()"
   ]
  },
  {
   "cell_type": "code",
   "execution_count": 10,
   "id": "97f379de",
   "metadata": {},
   "outputs": [],
   "source": [
    "#Add column from existing column"
   ]
  },
  {
   "cell_type": "code",
   "execution_count": 11,
   "id": "6f918765",
   "metadata": {},
   "outputs": [
    {
     "name": "stdout",
     "output_type": "stream",
     "text": [
      "+---------+--------+------+------+-----+------------+\n",
      "|firstname|lastname|gender|salary|bonus|bonus_amount|\n",
      "+---------+--------+------+------+-----+------------+\n",
      "|    James|   Smith|     M|  3000|  0.3|       900.0|\n",
      "|     Anna|    Rose|     F|  4100|  0.3|      1230.0|\n",
      "|   Robert|Williams|     M|  6200|  0.3|      1860.0|\n",
      "+---------+--------+------+------+-----+------------+\n",
      "\n"
     ]
    }
   ],
   "source": [
    "df = df.withColumn('bonus_amount',df['salary']*df['bonus'])\n",
    "df.show()"
   ]
  },
  {
   "cell_type": "code",
   "execution_count": 12,
   "id": "83fa8bbb",
   "metadata": {},
   "outputs": [],
   "source": [
    "#Add column by concatinating existing columns"
   ]
  },
  {
   "cell_type": "code",
   "execution_count": 15,
   "id": "0ff759ee",
   "metadata": {},
   "outputs": [
    {
     "name": "stdout",
     "output_type": "stream",
     "text": [
      "+---------+--------+------+------+-----+------------+---------------+\n",
      "|firstname|lastname|gender|salary|bonus|bonus_amount|      Full Name|\n",
      "+---------+--------+------+------+-----+------------+---------------+\n",
      "|    James|   Smith|     M|  3000|  0.3|       900.0|    James Smith|\n",
      "|     Anna|    Rose|     F|  4100|  0.3|      1230.0|      Anna Rose|\n",
      "|   Robert|Williams|     M|  6200|  0.3|      1860.0|Robert Williams|\n",
      "+---------+--------+------+------+-----+------------+---------------+\n",
      "\n"
     ]
    }
   ],
   "source": [
    "df.withColumn('Full Name',expr(\"firstname ||' '||lastname\")).show()"
   ]
  },
  {
   "cell_type": "code",
   "execution_count": 16,
   "id": "3752801b",
   "metadata": {},
   "outputs": [
    {
     "name": "stdout",
     "output_type": "stream",
     "text": [
      "+---------+--------+------+------+-----+------------+---------------+\n",
      "|firstname|lastname|gender|salary|bonus|bonus_amount|      Full Name|\n",
      "+---------+--------+------+------+-----+------------+---------------+\n",
      "|    James|   Smith|     M|  3000|  0.3|       900.0|    James Smith|\n",
      "|     Anna|    Rose|     F|  4100|  0.3|      1230.0|      Anna Rose|\n",
      "|   Robert|Williams|     M|  6200|  0.3|      1860.0|Robert Williams|\n",
      "+---------+--------+------+------+-----+------------+---------------+\n",
      "\n"
     ]
    }
   ],
   "source": [
    "df.withColumn('Full Name',concat_ws(' ',df['firstname'],df['lastname'])).show()"
   ]
  },
  {
   "cell_type": "code",
   "execution_count": 17,
   "id": "da3d69b6",
   "metadata": {},
   "outputs": [
    {
     "name": "stdout",
     "output_type": "stream",
     "text": [
      "+---------+--------+------+------+-----+------------+--------------+\n",
      "|firstname|lastname|gender|salary|bonus|bonus_amount|      FullName|\n",
      "+---------+--------+------+------+-----+------------+--------------+\n",
      "|    James|   Smith|     M|  3000|  0.3|       900.0|    JamesSmith|\n",
      "|     Anna|    Rose|     F|  4100|  0.3|      1230.0|      AnnaRose|\n",
      "|   Robert|Williams|     M|  6200|  0.3|      1860.0|RobertWilliams|\n",
      "+---------+--------+------+------+-----+------------+--------------+\n",
      "\n"
     ]
    }
   ],
   "source": [
    "df.withColumn('FullName',concat(df.firstname,df.lastname)).show()"
   ]
  },
  {
   "cell_type": "code",
   "execution_count": 18,
   "id": "7ed6767e",
   "metadata": {},
   "outputs": [],
   "source": [
    "#Add current date"
   ]
  },
  {
   "cell_type": "code",
   "execution_count": 20,
   "id": "63c9e1e4",
   "metadata": {},
   "outputs": [
    {
     "name": "stdout",
     "output_type": "stream",
     "text": [
      "+---------+--------+------+------+-----+------------+--------------------+\n",
      "|firstname|lastname|gender|salary|bonus|bonus_amount|        current date|\n",
      "+---------+--------+------+------+-----+------------+--------------------+\n",
      "|    James|   Smith|     M|  3000|  0.3|       900.0|2021-09-02 22:34:...|\n",
      "|     Anna|    Rose|     F|  4100|  0.3|      1230.0|2021-09-02 22:34:...|\n",
      "|   Robert|Williams|     M|  6200|  0.3|      1860.0|2021-09-02 22:34:...|\n",
      "+---------+--------+------+------+-----+------------+--------------------+\n",
      "\n"
     ]
    }
   ],
   "source": [
    "df.withColumn('current date',current_timestamp()).show()"
   ]
  },
  {
   "cell_type": "code",
   "execution_count": null,
   "id": "db25cec7",
   "metadata": {},
   "outputs": [],
   "source": [
    "df.withColumn(\"grade\", \\\n",
    "   when((df.salary < 4000), lit(\"A\")) \\\n",
    "     .when((df.salary >= 4000) & (df.salary <= 5000), lit(\"B\")) \\\n",
    "     .otherwise(lit(\"C\")) \\\n",
    "  ).show()"
   ]
  },
  {
   "cell_type": "code",
   "execution_count": 21,
   "id": "9bb51534",
   "metadata": {},
   "outputs": [
    {
     "name": "stdout",
     "output_type": "stream",
     "text": [
      "+---------+--------+------+------+-----+------------+-----+\n",
      "|firstname|lastname|gender|salary|bonus|bonus_amount|Grade|\n",
      "+---------+--------+------+------+-----+------------+-----+\n",
      "|    James|   Smith|     M|  3000|  0.3|       900.0|    C|\n",
      "|     Anna|    Rose|     F|  4100|  0.3|      1230.0|    B|\n",
      "|   Robert|Williams|     M|  6200|  0.3|      1860.0|    A|\n",
      "+---------+--------+------+------+-----+------------+-----+\n",
      "\n"
     ]
    }
   ],
   "source": [
    "df.withColumn('Grade',when(df.salary > 5000,lit('A')).when(df.salary > 4000,lit('B')).otherwise(lit('C'))).show()"
   ]
  },
  {
   "cell_type": "code",
   "execution_count": 22,
   "id": "97a3f89d",
   "metadata": {},
   "outputs": [],
   "source": [
    "# Add column using select"
   ]
  },
  {
   "cell_type": "code",
   "execution_count": 23,
   "id": "ed8bee42",
   "metadata": {},
   "outputs": [
    {
     "name": "stdout",
     "output_type": "stream",
     "text": [
      "+---------+------+-----+\n",
      "|firstname|salary|Bonus|\n",
      "+---------+------+-----+\n",
      "|    James|  3000|  0.3|\n",
      "|     Anna|  4100|  0.3|\n",
      "|   Robert|  6200|  0.3|\n",
      "+---------+------+-----+\n",
      "\n"
     ]
    }
   ],
   "source": [
    "df.select('firstname','salary',lit(0.3).alias('Bonus')).show()"
   ]
  },
  {
   "cell_type": "code",
   "execution_count": 26,
   "id": "612aa78e",
   "metadata": {},
   "outputs": [
    {
     "name": "stdout",
     "output_type": "stream",
     "text": [
      "+---------+------+------------+\n",
      "|firstname|salary|bonus_amount|\n",
      "+---------+------+------------+\n",
      "|    James|  3000|       900.0|\n",
      "|     Anna|  4100|      1230.0|\n",
      "|   Robert|  6200|      1860.0|\n",
      "+---------+------+------------+\n",
      "\n"
     ]
    }
   ],
   "source": [
    "df.select('firstname','salary',lit(df.salary * 0.3).alias('bonus_amount')).show()"
   ]
  },
  {
   "cell_type": "code",
   "execution_count": 27,
   "id": "6f0a5a79",
   "metadata": {},
   "outputs": [
    {
     "name": "stdout",
     "output_type": "stream",
     "text": [
      "+---------+------+------------+\n",
      "|firstname|salary|Current Date|\n",
      "+---------+------+------------+\n",
      "|    James|  3000|  2021-09-02|\n",
      "|     Anna|  4100|  2021-09-02|\n",
      "|   Robert|  6200|  2021-09-02|\n",
      "+---------+------+------------+\n",
      "\n"
     ]
    }
   ],
   "source": [
    "df.select('firstname','salary',current_date().alias('Current Date')).show()"
   ]
  },
  {
   "cell_type": "code",
   "execution_count": 28,
   "id": "65c37551",
   "metadata": {},
   "outputs": [],
   "source": [
    "#Add columns using SQL"
   ]
  },
  {
   "cell_type": "code",
   "execution_count": 29,
   "id": "20507765",
   "metadata": {},
   "outputs": [],
   "source": [
    "df.createOrReplaceTempView('Employee')"
   ]
  },
  {
   "cell_type": "code",
   "execution_count": 31,
   "id": "54c95159",
   "metadata": {},
   "outputs": [
    {
     "name": "stdout",
     "output_type": "stream",
     "text": [
      "+---------+------+-----+\n",
      "|firstname|salary|bonus|\n",
      "+---------+------+-----+\n",
      "|    James|  3000|  0.3|\n",
      "|     Anna|  4100|  0.3|\n",
      "|   Robert|  6200|  0.3|\n",
      "+---------+------+-----+\n",
      "\n"
     ]
    }
   ],
   "source": [
    "spark.sql(\"select firstname,salary,0.3 as bonus from Employee\").show()"
   ]
  },
  {
   "cell_type": "code",
   "execution_count": 32,
   "id": "33181350",
   "metadata": {},
   "outputs": [
    {
     "name": "stdout",
     "output_type": "stream",
     "text": [
      "+---------+------+-------------+\n",
      "|firstname|salary|salary_amount|\n",
      "+---------+------+-------------+\n",
      "|    James|  3000|        900.0|\n",
      "|     Anna|  4100|       1230.0|\n",
      "|   Robert|  6200|       1860.0|\n",
      "+---------+------+-------------+\n",
      "\n"
     ]
    }
   ],
   "source": [
    "spark.sql(\"select firstname,salary, salary * 0.3 as salary_amount from Employee\").show()"
   ]
  },
  {
   "cell_type": "code",
   "execution_count": 33,
   "id": "e3261602",
   "metadata": {},
   "outputs": [
    {
     "name": "stdout",
     "output_type": "stream",
     "text": [
      "+---------+------+----------+\n",
      "|firstname|salary|      date|\n",
      "+---------+------+----------+\n",
      "|    James|  3000|2021-09-02|\n",
      "|     Anna|  4100|2021-09-02|\n",
      "|   Robert|  6200|2021-09-02|\n",
      "+---------+------+----------+\n",
      "\n"
     ]
    }
   ],
   "source": [
    "spark.sql(\"select firstname,salary,current_date as date from Employee\").show()"
   ]
  },
  {
   "cell_type": "code",
   "execution_count": 41,
   "id": "43fcef51",
   "metadata": {},
   "outputs": [
    {
     "name": "stdout",
     "output_type": "stream",
     "text": [
      "+---------+------+-----+\n",
      "|firstname|salary|grade|\n",
      "+---------+------+-----+\n",
      "|    James|  3000|    B|\n",
      "|     Anna|  4100|    B|\n",
      "|   Robert|  6200|    B|\n",
      "+---------+------+-----+\n",
      "\n"
     ]
    }
   ],
   "source": [
    "spark.sql(\"select firstname,salary, case salary when salary < 4000 then 'A' else 'B' end as grade from Employee\").show()"
   ]
  },
  {
   "cell_type": "code",
   "execution_count": null,
   "id": "acc76feb",
   "metadata": {},
   "outputs": [],
   "source": []
  }
 ],
 "metadata": {
  "kernelspec": {
   "display_name": "Python 3 (ipykernel)",
   "language": "python",
   "name": "python3"
  },
  "language_info": {
   "codemirror_mode": {
    "name": "ipython",
    "version": 3
   },
   "file_extension": ".py",
   "mimetype": "text/x-python",
   "name": "python",
   "nbconvert_exporter": "python",
   "pygments_lexer": "ipython3",
   "version": "3.9.7"
  }
 },
 "nbformat": 4,
 "nbformat_minor": 5
}
