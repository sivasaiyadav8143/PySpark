{
 "cells": [
  {
   "cell_type": "markdown",
   "id": "9c07aff3",
   "metadata": {},
   "source": [
    "1. Used to filter the rows from RDD/DataFrame based on the given condition\n",
    "2. We can also use where() clause instead of the filter() if you are from an SQL background, both these functions operate exactly the same.\n",
    "3. Transformation operation and creates a new PySpark RDD/DataFrame."
   ]
  },
  {
   "cell_type": "code",
   "execution_count": 2,
   "id": "dfb69b6f",
   "metadata": {},
   "outputs": [],
   "source": [
    "from pyspark import SparkConf, SparkContext\n",
    "conf = SparkConf().setAppName('filter')\n",
    "sc = SparkContext.getOrCreate(conf)"
   ]
  },
  {
   "cell_type": "code",
   "execution_count": 3,
   "id": "aed2c5bc",
   "metadata": {},
   "outputs": [
    {
     "data": {
      "text/plain": [
       "['Hello Pyspark.',\n",
       " 'I am learning Pyspark.',\n",
       " 'This is Line 1',\n",
       " 'This is Line 2']"
      ]
     },
     "execution_count": 3,
     "metadata": {},
     "output_type": "execute_result"
    }
   ],
   "source": [
    "rdd = sc.textFile('D:\\Sample.txt')\n",
    "rdd.collect()"
   ]
  },
  {
   "cell_type": "code",
   "execution_count": 4,
   "id": "6a63c779",
   "metadata": {},
   "outputs": [
    {
     "data": {
      "text/plain": [
       "[[5, 8], [1, 2, 8, 8], [4, 2, 4, 1], [4, 2, 4, 1]]"
      ]
     },
     "execution_count": 4,
     "metadata": {},
     "output_type": "execute_result"
    }
   ],
   "source": [
    "# len_rdd = rdd.map(lambda x : [len(l) for l in x.split()])\n",
    "# len_rdd.collect()"
   ]
  },
  {
   "cell_type": "code",
   "execution_count": 7,
   "id": "10cc92de",
   "metadata": {},
   "outputs": [
    {
     "data": {
      "text/plain": [
       "[5, 8, 1, 2, 8, 8, 4, 2, 4, 1, 4, 2, 4, 1]"
      ]
     },
     "execution_count": 7,
     "metadata": {},
     "output_type": "execute_result"
    }
   ],
   "source": [
    "flat_rdd = rdd.flatMap(lambda x : [len(l) for l in x.split()])\n",
    "flat_rdd.collect()"
   ]
  },
  {
   "cell_type": "code",
   "execution_count": 9,
   "id": "51d38d58",
   "metadata": {},
   "outputs": [
    {
     "data": {
      "text/plain": [
       "[8, 2, 8, 8, 4, 2, 4, 4, 2, 4]"
      ]
     },
     "execution_count": 9,
     "metadata": {},
     "output_type": "execute_result"
    }
   ],
   "source": [
    "filter_rdd = flat_rdd.filter(lambda x : x%2 == 0)\n",
    "filter_rdd.collect()"
   ]
  },
  {
   "cell_type": "code",
   "execution_count": null,
   "id": "ab22359f",
   "metadata": {},
   "outputs": [],
   "source": []
  }
 ],
 "metadata": {
  "kernelspec": {
   "display_name": "Python 3 (ipykernel)",
   "language": "python",
   "name": "python3"
  },
  "language_info": {
   "codemirror_mode": {
    "name": "ipython",
    "version": 3
   },
   "file_extension": ".py",
   "mimetype": "text/x-python",
   "name": "python",
   "nbconvert_exporter": "python",
   "pygments_lexer": "ipython3",
   "version": "3.9.7"
  }
 },
 "nbformat": 4,
 "nbformat_minor": 5
}
