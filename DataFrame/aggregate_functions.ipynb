{
 "cells": [
  {
   "cell_type": "code",
   "execution_count": 38,
   "id": "87357312",
   "metadata": {},
   "outputs": [],
   "source": [
    "from pyspark.sql import SparkSession\n",
    "from pyspark.sql.functions import *\n",
    "import time"
   ]
  },
  {
   "cell_type": "code",
   "execution_count": 2,
   "id": "b7505aa8",
   "metadata": {},
   "outputs": [],
   "source": [
    "spark = SparkSession.builder.getOrCreate()"
   ]
  },
  {
   "cell_type": "code",
   "execution_count": 3,
   "id": "3df3d594",
   "metadata": {},
   "outputs": [],
   "source": [
    "simpleData = [(\"James\", \"Sales\", 3000),\n",
    "    (\"Michael\", \"Sales\", 4600),\n",
    "    (\"Robert\", \"Sales\", 4100),\n",
    "    (\"Maria\", \"Finance\", 3000),\n",
    "    (\"James\", \"Sales\", 3000),\n",
    "    (\"Scott\", \"Finance\", 3300),\n",
    "    (\"Jen\", \"Finance\", 3900),\n",
    "    (\"Jeff\", \"Marketing\", 3000),\n",
    "    (\"Kumar\", \"Marketing\", 2000),\n",
    "    (\"Saif\", \"Sales\", 4100)\n",
    "  ]\n",
    "schema = [\"employee_name\", \"department\", \"salary\"]"
   ]
  },
  {
   "cell_type": "code",
   "execution_count": 6,
   "id": "2ce44511",
   "metadata": {},
   "outputs": [
    {
     "name": "stdout",
     "output_type": "stream",
     "text": [
      "+-------------+----------+------+\n",
      "|employee_name|department|salary|\n",
      "+-------------+----------+------+\n",
      "|        James|     Sales|  3000|\n",
      "|      Michael|     Sales|  4600|\n",
      "|       Robert|     Sales|  4100|\n",
      "|        Maria|   Finance|  3000|\n",
      "|        James|     Sales|  3000|\n",
      "|        Scott|   Finance|  3300|\n",
      "|          Jen|   Finance|  3900|\n",
      "|         Jeff| Marketing|  3000|\n",
      "|        Kumar| Marketing|  2000|\n",
      "|         Saif|     Sales|  4100|\n",
      "+-------------+----------+------+\n",
      "\n"
     ]
    }
   ],
   "source": [
    "df = spark.createDataFrame(data=simpleData,schema=schema)\n",
    "df.show()"
   ]
  },
  {
   "cell_type": "code",
   "execution_count": 7,
   "id": "4b9315a1",
   "metadata": {},
   "outputs": [
    {
     "name": "stdout",
     "output_type": "stream",
     "text": [
      "root\n",
      " |-- employee_name: string (nullable = true)\n",
      " |-- department: string (nullable = true)\n",
      " |-- salary: long (nullable = true)\n",
      "\n"
     ]
    }
   ],
   "source": [
    "df.printSchema()"
   ]
  },
  {
   "cell_type": "markdown",
   "id": "484bf73b",
   "metadata": {},
   "source": [
    "# approx_count_distinct()"
   ]
  },
  {
   "cell_type": "code",
   "execution_count": 12,
   "id": "5cc80880",
   "metadata": {},
   "outputs": [
    {
     "data": {
      "text/plain": [
       "9"
      ]
     },
     "execution_count": 12,
     "metadata": {},
     "output_type": "execute_result"
    }
   ],
   "source": [
    "# function returns the count of distinct items in a group.\n",
    "\n",
    "# 1.\n",
    "# df.select(approxCountDistinct(df['employee_name'])).collect()[0][0]\n",
    "df.select(approx_count_distinct(df['employee_name'])).collect()[0][0]"
   ]
  },
  {
   "cell_type": "code",
   "execution_count": 9,
   "id": "292fe177",
   "metadata": {},
   "outputs": [
    {
     "data": {
      "text/plain": [
       "9"
      ]
     },
     "execution_count": 9,
     "metadata": {},
     "output_type": "execute_result"
    }
   ],
   "source": [
    "# 2.\n",
    "df.select(df['employee_name']).distinct().count()"
   ]
  },
  {
   "cell_type": "markdown",
   "id": "a6914f21",
   "metadata": {},
   "source": [
    "# avg()"
   ]
  },
  {
   "cell_type": "code",
   "execution_count": 19,
   "id": "815352ab",
   "metadata": {},
   "outputs": [],
   "source": [
    "# function returns the average of values in the input column."
   ]
  },
  {
   "cell_type": "code",
   "execution_count": 18,
   "id": "0e02e771",
   "metadata": {},
   "outputs": [
    {
     "data": {
      "text/plain": [
       "3400.0"
      ]
     },
     "execution_count": 18,
     "metadata": {},
     "output_type": "execute_result"
    }
   ],
   "source": [
    "df.select(avg(df['salary'])).collect()[0][0]"
   ]
  },
  {
   "cell_type": "markdown",
   "id": "1ec99d91",
   "metadata": {},
   "source": [
    "# collect_list()"
   ]
  },
  {
   "cell_type": "code",
   "execution_count": 20,
   "id": "b8302117",
   "metadata": {},
   "outputs": [],
   "source": [
    "# returns all values from an input column with duplicates."
   ]
  },
  {
   "cell_type": "code",
   "execution_count": 23,
   "id": "cd63cb15",
   "metadata": {},
   "outputs": [
    {
     "name": "stdout",
     "output_type": "stream",
     "text": [
      "+------------------------------------------------------------------------------------+\n",
      "|collect_list(department)                                                            |\n",
      "+------------------------------------------------------------------------------------+\n",
      "|[Sales, Sales, Sales, Finance, Sales, Finance, Finance, Marketing, Marketing, Sales]|\n",
      "+------------------------------------------------------------------------------------+\n",
      "\n"
     ]
    }
   ],
   "source": [
    "df.select(collect_list(df['department'])).show(truncate=False)"
   ]
  },
  {
   "cell_type": "code",
   "execution_count": 24,
   "id": "5fa53a5d",
   "metadata": {},
   "outputs": [
    {
     "name": "stdout",
     "output_type": "stream",
     "text": [
      "+------------------------------------------------------------+\n",
      "|collect_list(salary)                                        |\n",
      "+------------------------------------------------------------+\n",
      "|[3000, 4600, 4100, 3000, 3000, 3300, 3900, 3000, 2000, 4100]|\n",
      "+------------------------------------------------------------+\n",
      "\n"
     ]
    }
   ],
   "source": [
    "df.select(collect_list('salary')).show(truncate=False)"
   ]
  },
  {
   "cell_type": "markdown",
   "id": "ab6c7af1",
   "metadata": {},
   "source": [
    "# collect_set()"
   ]
  },
  {
   "cell_type": "code",
   "execution_count": 26,
   "id": "ce31e0b1",
   "metadata": {},
   "outputs": [],
   "source": [
    "# returns all values from an input column with duplicate values eliminated."
   ]
  },
  {
   "cell_type": "code",
   "execution_count": 27,
   "id": "1fd69be8",
   "metadata": {},
   "outputs": [
    {
     "name": "stdout",
     "output_type": "stream",
     "text": [
      "+---------------------------+\n",
      "|collect_set(department)    |\n",
      "+---------------------------+\n",
      "|[Finance, Sales, Marketing]|\n",
      "+---------------------------+\n",
      "\n"
     ]
    }
   ],
   "source": [
    "df.select(collect_set('department')).show(truncate=False)"
   ]
  },
  {
   "cell_type": "code",
   "execution_count": 43,
   "id": "c8c1cc4b",
   "metadata": {},
   "outputs": [
    {
     "name": "stdout",
     "output_type": "stream",
     "text": [
      "--- 5.665148973464966 seconds ---\n"
     ]
    }
   ],
   "source": [
    "start_time = time.time()\n",
    "df.select(collect_set('department')).first()[0]\n",
    "print(\"--- %s seconds ---\" % (time.time() - start_time))"
   ]
  },
  {
   "cell_type": "code",
   "execution_count": 44,
   "id": "51e7aafa",
   "metadata": {},
   "outputs": [
    {
     "name": "stdout",
     "output_type": "stream",
     "text": [
      "--- 5.7922303676605225 seconds ---\n"
     ]
    }
   ],
   "source": [
    "start_time_ = time.time()\n",
    "li = []\n",
    "for i in df.select('department').distinct().collect():\n",
    "    li.append(i[0])\n",
    "# print(li)\n",
    "print(\"--- %s seconds ---\" % (time.time() - start_time_))"
   ]
  },
  {
   "cell_type": "code",
   "execution_count": 60,
   "id": "ac1d78f8",
   "metadata": {},
   "outputs": [
    {
     "data": {
      "text/plain": [
       "[4600, 3000, 3900, 4100, 3300, 2000]"
      ]
     },
     "execution_count": 60,
     "metadata": {},
     "output_type": "execute_result"
    }
   ],
   "source": [
    "df.select(collect_set('salary')).first()[0]\n",
    "# df.select(collect_set('salary')).show()"
   ]
  },
  {
   "cell_type": "markdown",
   "id": "74075f9f",
   "metadata": {},
   "source": [
    "# countDistinct()"
   ]
  },
  {
   "cell_type": "code",
   "execution_count": 45,
   "id": "4cdcd98a",
   "metadata": {},
   "outputs": [],
   "source": [
    "# returns the number of distinct elements in a columns"
   ]
  },
  {
   "cell_type": "code",
   "execution_count": 47,
   "id": "d328edbf",
   "metadata": {},
   "outputs": [
    {
     "name": "stdout",
     "output_type": "stream",
     "text": [
      "+--------------------------+\n",
      "|count(DISTINCT department)|\n",
      "+--------------------------+\n",
      "|                         3|\n",
      "+--------------------------+\n",
      "\n"
     ]
    }
   ],
   "source": [
    "df.select(countDistinct('department')).show()"
   ]
  },
  {
   "cell_type": "code",
   "execution_count": 49,
   "id": "9d405338",
   "metadata": {},
   "outputs": [
    {
     "name": "stdout",
     "output_type": "stream",
     "text": [
      "+---------------------------------+\n",
      "|approx_count_distinct(department)|\n",
      "+---------------------------------+\n",
      "|                                3|\n",
      "+---------------------------------+\n",
      "\n"
     ]
    }
   ],
   "source": [
    "df.select(approx_count_distinct('department')).show()"
   ]
  },
  {
   "cell_type": "code",
   "execution_count": 50,
   "id": "3e925c45",
   "metadata": {},
   "outputs": [
    {
     "name": "stdout",
     "output_type": "stream",
     "text": [
      "+---------------------------------+\n",
      "|approx_count_distinct(department)|\n",
      "+---------------------------------+\n",
      "|                                3|\n",
      "+---------------------------------+\n",
      "\n"
     ]
    }
   ],
   "source": [
    "df.select(approxCountDistinct('department')).show()"
   ]
  },
  {
   "cell_type": "code",
   "execution_count": 51,
   "id": "33ad6f83",
   "metadata": {},
   "outputs": [
    {
     "data": {
      "text/plain": [
       "3"
      ]
     },
     "execution_count": 51,
     "metadata": {},
     "output_type": "execute_result"
    }
   ],
   "source": [
    "df.select('c').distinct().count()"
   ]
  },
  {
   "cell_type": "markdown",
   "id": "5bf6ca46",
   "metadata": {},
   "source": [
    "# count()"
   ]
  },
  {
   "cell_type": "code",
   "execution_count": 52,
   "id": "48722d41",
   "metadata": {},
   "outputs": [],
   "source": [
    "# returns number of elements in a column"
   ]
  },
  {
   "cell_type": "code",
   "execution_count": 53,
   "id": "974f6e0e",
   "metadata": {},
   "outputs": [
    {
     "data": {
      "text/plain": [
       "10"
      ]
     },
     "execution_count": 53,
     "metadata": {},
     "output_type": "execute_result"
    }
   ],
   "source": [
    "df.select('department').count()"
   ]
  },
  {
   "cell_type": "code",
   "execution_count": 54,
   "id": "606bf0cc",
   "metadata": {},
   "outputs": [
    {
     "data": {
      "text/plain": [
       "10"
      ]
     },
     "execution_count": 54,
     "metadata": {},
     "output_type": "execute_result"
    }
   ],
   "source": [
    "df.select('salary').count()"
   ]
  },
  {
   "cell_type": "code",
   "execution_count": 55,
   "id": "c158107f",
   "metadata": {},
   "outputs": [
    {
     "data": {
      "text/plain": [
       "10"
      ]
     },
     "execution_count": 55,
     "metadata": {},
     "output_type": "execute_result"
    }
   ],
   "source": [
    "df.select('employee_name').count()"
   ]
  },
  {
   "cell_type": "markdown",
   "id": "1252453f",
   "metadata": {},
   "source": [
    "# first()"
   ]
  },
  {
   "cell_type": "code",
   "execution_count": 61,
   "id": "4f1b5272",
   "metadata": {},
   "outputs": [],
   "source": [
    "# returns the first element in a column when ignoreNulls is set to true, it returns the first non-null element."
   ]
  },
  {
   "cell_type": "code",
   "execution_count": 68,
   "id": "88e23cb5",
   "metadata": {},
   "outputs": [
    {
     "name": "stdout",
     "output_type": "stream",
     "text": [
      "+-----+\n",
      "|First|\n",
      "+-----+\n",
      "|James|\n",
      "+-----+\n",
      "\n"
     ]
    }
   ],
   "source": [
    "df.select(first('employee_name').alias('First')).show()"
   ]
  },
  {
   "cell_type": "code",
   "execution_count": 66,
   "id": "e8810f0e",
   "metadata": {},
   "outputs": [
    {
     "data": {
      "text/plain": [
       "'James'"
      ]
     },
     "execution_count": 66,
     "metadata": {},
     "output_type": "execute_result"
    }
   ],
   "source": [
    "df.select('employee_name').first()[0]"
   ]
  },
  {
   "cell_type": "code",
   "execution_count": 69,
   "id": "446e713a",
   "metadata": {},
   "outputs": [
    {
     "name": "stdout",
     "output_type": "stream",
     "text": [
      "+------------+\n",
      "|First Salary|\n",
      "+------------+\n",
      "|        3000|\n",
      "+------------+\n",
      "\n"
     ]
    }
   ],
   "source": [
    "df.select(first('salary').alias('First Salary')).show()"
   ]
  },
  {
   "cell_type": "code",
   "execution_count": 70,
   "id": "be6b75b0",
   "metadata": {},
   "outputs": [
    {
     "data": {
      "text/plain": [
       "3000"
      ]
     },
     "execution_count": 70,
     "metadata": {},
     "output_type": "execute_result"
    }
   ],
   "source": [
    "df.select('salary').first()[0]"
   ]
  },
  {
   "cell_type": "code",
   "execution_count": 72,
   "id": "e0174d77",
   "metadata": {},
   "outputs": [
    {
     "name": "stdout",
     "output_type": "stream",
     "text": [
      "+-----+\n",
      "|  DEP|\n",
      "+-----+\n",
      "|Sales|\n",
      "+-----+\n",
      "\n"
     ]
    }
   ],
   "source": [
    "df.select(first('department').alias('DEP')).show()"
   ]
  },
  {
   "cell_type": "code",
   "execution_count": 74,
   "id": "8de8980e",
   "metadata": {},
   "outputs": [
    {
     "data": {
      "text/plain": [
       "'Sales'"
      ]
     },
     "execution_count": 74,
     "metadata": {},
     "output_type": "execute_result"
    }
   ],
   "source": [
    "df.select('department').first()[0]"
   ]
  },
  {
   "cell_type": "markdown",
   "id": "7dd72945",
   "metadata": {},
   "source": [
    "# last()"
   ]
  },
  {
   "cell_type": "code",
   "execution_count": 75,
   "id": "c506e986",
   "metadata": {},
   "outputs": [],
   "source": [
    "# returns the last element in a column. when ignoreNulls is set to true, it returns the last non-null element."
   ]
  },
  {
   "cell_type": "code",
   "execution_count": 78,
   "id": "c5a469d8",
   "metadata": {},
   "outputs": [
    {
     "name": "stdout",
     "output_type": "stream",
     "text": [
      "+----+\n",
      "|LAST|\n",
      "+----+\n",
      "|Saif|\n",
      "+----+\n",
      "\n"
     ]
    }
   ],
   "source": [
    "df.select(last('employee_name').alias('LAST')).show()"
   ]
  },
  {
   "cell_type": "code",
   "execution_count": 81,
   "id": "be242bf6",
   "metadata": {},
   "outputs": [
    {
     "name": "stdout",
     "output_type": "stream",
     "text": [
      "+------------+\n",
      "|last(salary)|\n",
      "+------------+\n",
      "|        4100|\n",
      "+------------+\n",
      "\n"
     ]
    }
   ],
   "source": [
    "df.select(last('salary')).show()"
   ]
  },
  {
   "cell_type": "markdown",
   "id": "7c574349",
   "metadata": {},
   "source": [
    "# kurtosis()"
   ]
  },
  {
   "cell_type": "code",
   "execution_count": 82,
   "id": "4be3e42e",
   "metadata": {},
   "outputs": [],
   "source": [
    "# returns the kurtosis of the values in a group."
   ]
  },
  {
   "cell_type": "code",
   "execution_count": 83,
   "id": "d3c55385",
   "metadata": {},
   "outputs": [
    {
     "name": "stdout",
     "output_type": "stream",
     "text": [
      "+-------------------+\n",
      "|   kurtosis(salary)|\n",
      "+-------------------+\n",
      "|-0.6467803030303032|\n",
      "+-------------------+\n",
      "\n"
     ]
    }
   ],
   "source": [
    "df.select(kurtosis('salary')).show()"
   ]
  },
  {
   "cell_type": "markdown",
   "id": "d7815866",
   "metadata": {},
   "source": [
    "# max() & min()"
   ]
  },
  {
   "cell_type": "code",
   "execution_count": 84,
   "id": "2518c21d",
   "metadata": {},
   "outputs": [
    {
     "name": "stdout",
     "output_type": "stream",
     "text": [
      "+-----------+\n",
      "|max(salary)|\n",
      "+-----------+\n",
      "|       4600|\n",
      "+-----------+\n",
      "\n"
     ]
    }
   ],
   "source": [
    "df.select(max('salary')).show()"
   ]
  },
  {
   "cell_type": "code",
   "execution_count": 85,
   "id": "9ad98ee5",
   "metadata": {},
   "outputs": [
    {
     "name": "stdout",
     "output_type": "stream",
     "text": [
      "+-------+\n",
      "|Min Sal|\n",
      "+-------+\n",
      "|   2000|\n",
      "+-------+\n",
      "\n"
     ]
    }
   ],
   "source": [
    "df.select(min('salary').alias('Min Sal')).show()"
   ]
  },
  {
   "cell_type": "markdown",
   "id": "4ceecc00",
   "metadata": {},
   "source": [
    "# mean()"
   ]
  },
  {
   "cell_type": "code",
   "execution_count": 86,
   "id": "048939ab",
   "metadata": {},
   "outputs": [],
   "source": [
    "# returns the average of the values in a column. Alias for Avg"
   ]
  },
  {
   "cell_type": "code",
   "execution_count": 87,
   "id": "62ee6418",
   "metadata": {},
   "outputs": [
    {
     "name": "stdout",
     "output_type": "stream",
     "text": [
      "+-----------+\n",
      "|avg(salary)|\n",
      "+-----------+\n",
      "|     3400.0|\n",
      "+-----------+\n",
      "\n"
     ]
    }
   ],
   "source": [
    "df.select(mean('salary')).show()"
   ]
  },
  {
   "cell_type": "markdown",
   "id": "bfb992e0",
   "metadata": {},
   "source": [
    "# skewness()"
   ]
  },
  {
   "cell_type": "code",
   "execution_count": 89,
   "id": "cfa65e37",
   "metadata": {},
   "outputs": [],
   "source": [
    "# returns the skewness of the values in a group."
   ]
  },
  {
   "cell_type": "code",
   "execution_count": 90,
   "id": "65fce0f0",
   "metadata": {},
   "outputs": [
    {
     "name": "stdout",
     "output_type": "stream",
     "text": [
      "+--------------------+\n",
      "|    skewness(salary)|\n",
      "+--------------------+\n",
      "|-0.12041791181069571|\n",
      "+--------------------+\n",
      "\n"
     ]
    }
   ],
   "source": [
    "df.select(skewness('salary')).show()"
   ]
  },
  {
   "cell_type": "markdown",
   "id": "5729ebea",
   "metadata": {},
   "source": [
    "# stddev(), stddev_samp() and stddev_pop()"
   ]
  },
  {
   "cell_type": "code",
   "execution_count": 91,
   "id": "8de27faa",
   "metadata": {},
   "outputs": [],
   "source": [
    "# stddev() alias for stddev_samp.\n",
    "\n",
    "# stddev_samp() function returns the sample standard deviation of values in a column.\n",
    "\n",
    "# stddev_pop() function returns the population standard deviation of the values in a column."
   ]
  },
  {
   "cell_type": "code",
   "execution_count": 92,
   "id": "e7aecf64",
   "metadata": {},
   "outputs": [
    {
     "name": "stdout",
     "output_type": "stream",
     "text": [
      "+-------------------+\n",
      "|stddev_samp(salary)|\n",
      "+-------------------+\n",
      "|  765.9416862050705|\n",
      "+-------------------+\n",
      "\n"
     ]
    }
   ],
   "source": [
    "df.select(stddev('salary')).show()"
   ]
  },
  {
   "cell_type": "code",
   "execution_count": 93,
   "id": "552a1aef",
   "metadata": {},
   "outputs": [
    {
     "name": "stdout",
     "output_type": "stream",
     "text": [
      "+-------------------+\n",
      "|stddev_samp(salary)|\n",
      "+-------------------+\n",
      "|  765.9416862050705|\n",
      "+-------------------+\n",
      "\n"
     ]
    }
   ],
   "source": [
    "df.select(stddev_samp('salary')).show()"
   ]
  },
  {
   "cell_type": "code",
   "execution_count": 94,
   "id": "d9a9c68c",
   "metadata": {},
   "outputs": [
    {
     "name": "stdout",
     "output_type": "stream",
     "text": [
      "+------------------+\n",
      "|stddev_pop(salary)|\n",
      "+------------------+\n",
      "|  726.636084983398|\n",
      "+------------------+\n",
      "\n"
     ]
    }
   ],
   "source": [
    "df.select(stddev_pop('salary')).show()"
   ]
  },
  {
   "cell_type": "code",
   "execution_count": 96,
   "id": "db031d20",
   "metadata": {},
   "outputs": [
    {
     "name": "stdout",
     "output_type": "stream",
     "text": [
      "+-----------------+----------------+-----------------+\n",
      "|              STD|      stddev_pop|      stddev_samp|\n",
      "+-----------------+----------------+-----------------+\n",
      "|765.9416862050705|726.636084983398|765.9416862050705|\n",
      "+-----------------+----------------+-----------------+\n",
      "\n"
     ]
    }
   ],
   "source": [
    "df.select(stddev('salary').alias('STD'),stddev_pop('salary').alias('stddev_pop'),stddev_samp('salary').alias('stddev_samp')).show()"
   ]
  },
  {
   "cell_type": "markdown",
   "id": "2405a20f",
   "metadata": {},
   "source": [
    "# sum()"
   ]
  },
  {
   "cell_type": "code",
   "execution_count": 97,
   "id": "544ab46d",
   "metadata": {},
   "outputs": [],
   "source": [
    "# Returns the sum of all values in a column."
   ]
  },
  {
   "cell_type": "code",
   "execution_count": 99,
   "id": "07870a28",
   "metadata": {},
   "outputs": [
    {
     "name": "stdout",
     "output_type": "stream",
     "text": [
      "+-----+\n",
      "|  SUM|\n",
      "+-----+\n",
      "|34000|\n",
      "+-----+\n",
      "\n"
     ]
    }
   ],
   "source": [
    "df.select(sum('salary').alias('SUM')).show()"
   ]
  },
  {
   "cell_type": "markdown",
   "id": "a03319f0",
   "metadata": {},
   "source": [
    "# sumDistinct()"
   ]
  },
  {
   "cell_type": "code",
   "execution_count": 100,
   "id": "b3c4cc3a",
   "metadata": {},
   "outputs": [],
   "source": [
    "# returns the sum of all distinct values in a column."
   ]
  },
  {
   "cell_type": "code",
   "execution_count": 101,
   "id": "1aa7a8e2",
   "metadata": {},
   "outputs": [
    {
     "name": "stdout",
     "output_type": "stream",
     "text": [
      "+--------------------+\n",
      "|sum(DISTINCT salary)|\n",
      "+--------------------+\n",
      "|               20900|\n",
      "+--------------------+\n",
      "\n"
     ]
    }
   ],
   "source": [
    "df.select(sumDistinct('salary')).show()"
   ]
  },
  {
   "cell_type": "markdown",
   "id": "7a678e47",
   "metadata": {},
   "source": [
    "# variance(), var_samp(), var_pop()"
   ]
  },
  {
   "cell_type": "code",
   "execution_count": 102,
   "id": "ca7dc4aa",
   "metadata": {},
   "outputs": [],
   "source": [
    "# variance() alias for var_samp\n",
    "\n",
    "# var_samp() function returns the unbiased variance of the values in a column.\n",
    "\n",
    "# var_pop() function returns the population variance of the values in a column."
   ]
  },
  {
   "cell_type": "code",
   "execution_count": 103,
   "id": "473cd1fe",
   "metadata": {},
   "outputs": [
    {
     "name": "stdout",
     "output_type": "stream",
     "text": [
      "+-----------------+-----------------+---------------+\n",
      "| var_samp(salary)| var_samp(salary)|var_pop(salary)|\n",
      "+-----------------+-----------------+---------------+\n",
      "|586666.6666666666|586666.6666666666|       528000.0|\n",
      "+-----------------+-----------------+---------------+\n",
      "\n"
     ]
    }
   ],
   "source": [
    "df.select(variance('salary'),var_samp('salary'),var_pop('salary')).show()"
   ]
  },
  {
   "cell_type": "code",
   "execution_count": null,
   "id": "6f407a0f",
   "metadata": {},
   "outputs": [],
   "source": []
  }
 ],
 "metadata": {
  "kernelspec": {
   "display_name": "Python 3 (ipykernel)",
   "language": "python",
   "name": "python3"
  },
  "language_info": {
   "codemirror_mode": {
    "name": "ipython",
    "version": 3
   },
   "file_extension": ".py",
   "mimetype": "text/x-python",
   "name": "python",
   "nbconvert_exporter": "python",
   "pygments_lexer": "ipython3",
   "version": "3.9.7"
  }
 },
 "nbformat": 4,
 "nbformat_minor": 5
}
