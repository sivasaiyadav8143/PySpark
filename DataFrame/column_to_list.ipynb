{
 "cells": [
  {
   "cell_type": "code",
   "execution_count": 1,
   "id": "f4e2cf95",
   "metadata": {},
   "outputs": [],
   "source": [
    "from pyspark.sql import SparkSession\n",
    "spark = SparkSession.builder.getOrCreate()"
   ]
  },
  {
   "cell_type": "code",
   "execution_count": 2,
   "id": "6ec54530",
   "metadata": {},
   "outputs": [],
   "source": [
    "data = [(\"James\",\"Smith\",\"USA\",\"CA\"),(\"Michael\",\"Rose\",\"USA\",\"NY\"),\\\n",
    "       (\"Robert\",\"Williams\",\"USA\",\"CA\"),(\"Maria\",\"Jones\",\"USA\",\"FL\")]\n",
    "columns = [\"firstname\",\"lastname\",\"country\",\"state\"]"
   ]
  },
  {
   "cell_type": "code",
   "execution_count": 3,
   "id": "4d3d7dff",
   "metadata": {},
   "outputs": [
    {
     "name": "stdout",
     "output_type": "stream",
     "text": [
      "+---------+--------+-------+-----+\n",
      "|firstname|lastname|country|state|\n",
      "+---------+--------+-------+-----+\n",
      "|    James|   Smith|    USA|   CA|\n",
      "|  Michael|    Rose|    USA|   NY|\n",
      "|   Robert|Williams|    USA|   CA|\n",
      "|    Maria|   Jones|    USA|   FL|\n",
      "+---------+--------+-------+-----+\n",
      "\n"
     ]
    }
   ],
   "source": [
    "df = spark.createDataFrame(data=data,schema=columns)\n",
    "df.show()"
   ]
  },
  {
   "cell_type": "code",
   "execution_count": 4,
   "id": "6fc465b5",
   "metadata": {},
   "outputs": [
    {
     "name": "stdout",
     "output_type": "stream",
     "text": [
      "[Row(firstname='James', lastname='Smith', country='USA', state='CA'), Row(firstname='Michael', lastname='Rose', country='USA', state='NY'), Row(firstname='Robert', lastname='Williams', country='USA', state='CA'), Row(firstname='Maria', lastname='Jones', country='USA', state='FL')]\n"
     ]
    }
   ],
   "source": [
    "print(df.collect())"
   ]
  },
  {
   "cell_type": "code",
   "execution_count": 7,
   "id": "f256c304",
   "metadata": {},
   "outputs": [
    {
     "data": {
      "text/plain": [
       "['CA', 'NY', 'CA', 'FL']"
      ]
     },
     "execution_count": 7,
     "metadata": {},
     "output_type": "execute_result"
    }
   ],
   "source": [
    "states_1 = [state.state for state in df.select('state').collect()]\n",
    "states_1"
   ]
  },
  {
   "cell_type": "code",
   "execution_count": 14,
   "id": "2787c247",
   "metadata": {},
   "outputs": [
    {
     "data": {
      "text/plain": [
       "['CA', 'NY', 'CA', 'FL']"
      ]
     },
     "execution_count": 14,
     "metadata": {},
     "output_type": "execute_result"
    }
   ],
   "source": [
    "states_2 = df.rdd.map(lambda x: x[3]).collect()\n",
    "states_2"
   ]
  },
  {
   "cell_type": "code",
   "execution_count": 17,
   "id": "4cfb7781",
   "metadata": {},
   "outputs": [
    {
     "name": "stdout",
     "output_type": "stream",
     "text": [
      "['CA', 'NY', 'FL']\n"
     ]
    }
   ],
   "source": [
    "from collections import OrderedDict\n",
    "res = list(OrderedDict.fromkeys(states_2))\n",
    "print(res)"
   ]
  },
  {
   "cell_type": "code",
   "execution_count": 19,
   "id": "bb861ae5",
   "metadata": {},
   "outputs": [
    {
     "data": {
      "text/plain": [
       "['CA', 'NY', 'CA', 'FL']"
      ]
     },
     "execution_count": 19,
     "metadata": {},
     "output_type": "execute_result"
    }
   ],
   "source": [
    "states_3 = df.rdd.map(lambda x: x.state).collect()\n",
    "states_3"
   ]
  },
  {
   "cell_type": "code",
   "execution_count": 21,
   "id": "17829052",
   "metadata": {},
   "outputs": [
    {
     "data": {
      "text/plain": [
       "[Row(state='CA'), Row(state='NY'), Row(state='CA'), Row(state='FL')]"
      ]
     },
     "execution_count": 21,
     "metadata": {},
     "output_type": "execute_result"
    }
   ],
   "source": [
    "states_4 = df.select('state').collect()\n",
    "states_4"
   ]
  },
  {
   "cell_type": "code",
   "execution_count": 24,
   "id": "7448df22",
   "metadata": {},
   "outputs": [
    {
     "data": {
      "text/plain": [
       "['CA', 'NY', 'CA', 'FL']"
      ]
     },
     "execution_count": 24,
     "metadata": {},
     "output_type": "execute_result"
    }
   ],
   "source": [
    "states_5 = df.select('state').rdd.flatMap(lambda x:x).collect()\n",
    "states_5"
   ]
  },
  {
   "cell_type": "code",
   "execution_count": 28,
   "id": "5a44c128",
   "metadata": {},
   "outputs": [
    {
     "data": {
      "text/plain": [
       "['CA', 'NY', 'CA', 'FL']"
      ]
     },
     "execution_count": 28,
     "metadata": {},
     "output_type": "execute_result"
    }
   ],
   "source": [
    "states_6 = list(df.select('state').toPandas()['state'])\n",
    "states_6"
   ]
  },
  {
   "cell_type": "code",
   "execution_count": 31,
   "id": "d3e8a406",
   "metadata": {},
   "outputs": [
    {
     "name": "stdout",
     "output_type": "stream",
     "text": [
      "['CA', 'NY', 'CA', 'FL']\n",
      "['James', 'Michael', 'Robert', 'Maria']\n"
     ]
    }
   ],
   "source": [
    "df1 = df.select('state','firstname').toPandas()\n",
    "print(list(df1['state']))\n",
    "print(list(df1['firstname']))"
   ]
  },
  {
   "cell_type": "code",
   "execution_count": null,
   "id": "7fdd4740",
   "metadata": {},
   "outputs": [],
   "source": []
  }
 ],
 "metadata": {
  "kernelspec": {
   "display_name": "Python 3 (ipykernel)",
   "language": "python",
   "name": "python3"
  },
  "language_info": {
   "codemirror_mode": {
    "name": "ipython",
    "version": 3
   },
   "file_extension": ".py",
   "mimetype": "text/x-python",
   "name": "python",
   "nbconvert_exporter": "python",
   "pygments_lexer": "ipython3",
   "version": "3.9.6"
  }
 },
 "nbformat": 4,
 "nbformat_minor": 5
}
