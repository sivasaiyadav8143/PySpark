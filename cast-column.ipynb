{
 "cells": [
  {
   "cell_type": "code",
   "execution_count": 8,
   "id": "41fcda53",
   "metadata": {},
   "outputs": [],
   "source": [
    "from pyspark.sql import SparkSession\n",
    "from pyspark.sql.functions import *\n",
    "from pyspark.sql.types import *\n",
    "spark = SparkSession.builder.getOrCreate()"
   ]
  },
  {
   "cell_type": "code",
   "execution_count": 16,
   "id": "a2c52b8e",
   "metadata": {},
   "outputs": [],
   "source": [
    "data = [\n",
    "    (\"James\",34,\"2006-01-01\",\"true\",\"M\",3000.60),\n",
    "    (\"Michael\",33,\"1980-01-10\",\"true\",\"F\",3300.80),\n",
    "    (\"Robert\",37,\"06-01-1992\",\"false\",\"M\",5000.50)\n",
    "]\n",
    "\n",
    "col = [\"firstname\",\"age\",\"jobStartDate\",\"isGraduated\",\"gender\",\"salary\"]"
   ]
  },
  {
   "cell_type": "code",
   "execution_count": 17,
   "id": "1883e1e2",
   "metadata": {},
   "outputs": [
    {
     "name": "stdout",
     "output_type": "stream",
     "text": [
      "+---------+---+------------+-----------+------+------+\n",
      "|firstname|age|jobStartDate|isGraduated|gender|salary|\n",
      "+---------+---+------------+-----------+------+------+\n",
      "|    James| 34|  2006-01-01|       true|     M|3000.6|\n",
      "|  Michael| 33|  1980-01-10|       true|     F|3300.8|\n",
      "|   Robert| 37|  06-01-1992|      false|     M|5000.5|\n",
      "+---------+---+------------+-----------+------+------+\n",
      "\n"
     ]
    }
   ],
   "source": [
    "df = spark.createDataFrame(data=data, schema=col)\n",
    "df.show()"
   ]
  },
  {
   "cell_type": "code",
   "execution_count": 18,
   "id": "a25eb903",
   "metadata": {},
   "outputs": [
    {
     "name": "stdout",
     "output_type": "stream",
     "text": [
      "root\n",
      " |-- firstname: string (nullable = true)\n",
      " |-- age: long (nullable = true)\n",
      " |-- jobStartDate: string (nullable = true)\n",
      " |-- isGraduated: string (nullable = true)\n",
      " |-- gender: string (nullable = true)\n",
      " |-- salary: double (nullable = true)\n",
      "\n"
     ]
    }
   ],
   "source": [
    "df.printSchema()"
   ]
  },
  {
   "cell_type": "markdown",
   "id": "6a479bd7",
   "metadata": {},
   "source": [
    "# withColumn()"
   ]
  },
  {
   "cell_type": "code",
   "execution_count": 13,
   "id": "a042813e",
   "metadata": {},
   "outputs": [],
   "source": [
    "df = df.withColumn('age',df.age.cast('int')).withColumn('isGraduated',col('isGraduated').cast(BooleanType()))\\\n",
    "       .withColumn('jobStartDate',col('jobStartDate').cast(DateType()))\n",
    "# df.withColumn('age',col('age').cast(IntegerType()))\n",
    "# df.withColumn('age',col('age').cast('Integer'))"
   ]
  },
  {
   "cell_type": "code",
   "execution_count": 14,
   "id": "e59ce1f6",
   "metadata": {},
   "outputs": [
    {
     "name": "stdout",
     "output_type": "stream",
     "text": [
      "+---------+---+------------+-----------+------+------+\n",
      "|firstname|age|jobStartDate|isGraduated|gender|salary|\n",
      "+---------+---+------------+-----------+------+------+\n",
      "|    James| 34|  2006-01-01|       true|     M|3000.6|\n",
      "|  Michael| 33|  1980-01-10|       true|     F|3300.8|\n",
      "|   Robert| 37|        null|      false|     M|5000.5|\n",
      "+---------+---+------------+-----------+------+------+\n",
      "\n"
     ]
    }
   ],
   "source": [
    "df.show()"
   ]
  },
  {
   "cell_type": "code",
   "execution_count": 15,
   "id": "10b97e39",
   "metadata": {},
   "outputs": [
    {
     "name": "stdout",
     "output_type": "stream",
     "text": [
      "root\n",
      " |-- firstname: string (nullable = true)\n",
      " |-- age: integer (nullable = true)\n",
      " |-- jobStartDate: date (nullable = true)\n",
      " |-- isGraduated: boolean (nullable = true)\n",
      " |-- gender: string (nullable = true)\n",
      " |-- salary: double (nullable = true)\n",
      "\n"
     ]
    }
   ],
   "source": [
    "df.printSchema()"
   ]
  },
  {
   "cell_type": "markdown",
   "id": "2191ed92",
   "metadata": {},
   "source": [
    "# select"
   ]
  },
  {
   "cell_type": "code",
   "execution_count": 24,
   "id": "e99f67ff",
   "metadata": {},
   "outputs": [
    {
     "name": "stdout",
     "output_type": "stream",
     "text": [
      "+---------+---+------------+-----------+------+------+\n",
      "|firstname|age|jobStartDate|isGraduated|gender|salary|\n",
      "+---------+---+------------+-----------+------+------+\n",
      "|    James| 34|  2006-01-01|       true|     M|3000.6|\n",
      "|  Michael| 33|  1980-01-10|       true|     F|3300.8|\n",
      "|   Robert| 37|  06-01-1992|      false|     M|5000.5|\n",
      "+---------+---+------------+-----------+------+------+\n",
      "\n"
     ]
    }
   ],
   "source": [
    "df.show()"
   ]
  },
  {
   "cell_type": "code",
   "execution_count": 28,
   "id": "0fe4eff0",
   "metadata": {},
   "outputs": [
    {
     "name": "stdout",
     "output_type": "stream",
     "text": [
      "+---+\n",
      "|age|\n",
      "+---+\n",
      "| 34|\n",
      "| 33|\n",
      "| 37|\n",
      "+---+\n",
      "\n"
     ]
    }
   ],
   "source": [
    "df.select(df['age'].cast(IntegerType())).show()"
   ]
  },
  {
   "cell_type": "markdown",
   "id": "7e1cb58e",
   "metadata": {},
   "source": [
    "# selectExpr()"
   ]
  },
  {
   "cell_type": "code",
   "execution_count": 33,
   "id": "cf8ee2b4",
   "metadata": {},
   "outputs": [],
   "source": [
    "df2 = df.selectExpr('cast(age as int) age','cast(isGraduated as string) isGraduated')"
   ]
  },
  {
   "cell_type": "code",
   "execution_count": 34,
   "id": "c43f55d5",
   "metadata": {},
   "outputs": [
    {
     "name": "stdout",
     "output_type": "stream",
     "text": [
      "root\n",
      " |-- age: integer (nullable = true)\n",
      " |-- isGraduated: string (nullable = true)\n",
      "\n"
     ]
    }
   ],
   "source": [
    "df2.printSchema()"
   ]
  },
  {
   "cell_type": "code",
   "execution_count": null,
   "id": "79073056",
   "metadata": {},
   "outputs": [],
   "source": []
  }
 ],
 "metadata": {
  "kernelspec": {
   "display_name": "Python 3 (ipykernel)",
   "language": "python",
   "name": "python3"
  },
  "language_info": {
   "codemirror_mode": {
    "name": "ipython",
    "version": 3
   },
   "file_extension": ".py",
   "mimetype": "text/x-python",
   "name": "python",
   "nbconvert_exporter": "python",
   "pygments_lexer": "ipython3",
   "version": "3.9.7"
  }
 },
 "nbformat": 4,
 "nbformat_minor": 5
}
