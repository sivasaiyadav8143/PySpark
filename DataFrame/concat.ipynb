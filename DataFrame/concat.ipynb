{
 "cells": [
  {
   "cell_type": "code",
   "execution_count": 1,
   "id": "e210a4f1",
   "metadata": {},
   "outputs": [],
   "source": [
    "from pyspark.sql.functions import *\n",
    "from pyspark.sql import SparkSession\n",
    "\n",
    "spark = SparkSession.builder.getOrCreate()"
   ]
  },
  {
   "cell_type": "code",
   "execution_count": 2,
   "id": "70d3f550",
   "metadata": {},
   "outputs": [],
   "source": [
    "data = [('James','','Smith','1991-04-01','M',3000),\n",
    "  ('Michael','Rose','','2000-05-19','M',4000),\n",
    "  ('Robert','','Williams','1978-09-05','M',4000),\n",
    "  ('Maria','Anne','Jones','1967-12-01','F',4000),\n",
    "  ('Jen','Mary','Brown','1980-02-17','F',-1)\n",
    "]\n",
    "\n",
    "columns = [\"firstname\",\"middlename\",\"lastname\",\"dob\",\"gender\",\"salary\"]"
   ]
  },
  {
   "cell_type": "code",
   "execution_count": 3,
   "id": "7580ae33",
   "metadata": {},
   "outputs": [
    {
     "name": "stdout",
     "output_type": "stream",
     "text": [
      "+---------+----------+--------+----------+------+------+\n",
      "|firstname|middlename|lastname|       dob|gender|salary|\n",
      "+---------+----------+--------+----------+------+------+\n",
      "|    James|          |   Smith|1991-04-01|     M|  3000|\n",
      "|  Michael|      Rose|        |2000-05-19|     M|  4000|\n",
      "|   Robert|          |Williams|1978-09-05|     M|  4000|\n",
      "|    Maria|      Anne|   Jones|1967-12-01|     F|  4000|\n",
      "|      Jen|      Mary|   Brown|1980-02-17|     F|    -1|\n",
      "+---------+----------+--------+----------+------+------+\n",
      "\n"
     ]
    }
   ],
   "source": [
    "df = spark.createDataFrame(data=data,schema=columns)\n",
    "df.show(5)"
   ]
  },
  {
   "cell_type": "code",
   "execution_count": 4,
   "id": "77036150",
   "metadata": {},
   "outputs": [
    {
     "name": "stdout",
     "output_type": "stream",
     "text": [
      "root\n",
      " |-- firstname: string (nullable = true)\n",
      " |-- middlename: string (nullable = true)\n",
      " |-- lastname: string (nullable = true)\n",
      " |-- dob: string (nullable = true)\n",
      " |-- gender: string (nullable = true)\n",
      " |-- salary: long (nullable = true)\n",
      "\n"
     ]
    }
   ],
   "source": [
    "df.printSchema()"
   ]
  },
  {
   "cell_type": "code",
   "execution_count": 9,
   "id": "f7bf8c94",
   "metadata": {},
   "outputs": [
    {
     "name": "stdout",
     "output_type": "stream",
     "text": [
      "+---------+----------+--------+----------+------+------+----------------+\n",
      "|firstname|middlename|lastname|dob       |gender|salary|Full Name       |\n",
      "+---------+----------+--------+----------+------+------+----------------+\n",
      "|James    |          |Smith   |1991-04-01|M     |3000  |James  Smith    |\n",
      "|Michael  |Rose      |        |2000-05-19|M     |4000  |Michael Rose    |\n",
      "|Robert   |          |Williams|1978-09-05|M     |4000  |Robert  Williams|\n",
      "|Maria    |Anne      |Jones   |1967-12-01|F     |4000  |Maria Anne Jones|\n",
      "|Jen      |Mary      |Brown   |1980-02-17|F     |-1    |Jen Mary Brown  |\n",
      "+---------+----------+--------+----------+------+------+----------------+\n",
      "\n"
     ]
    }
   ],
   "source": [
    "df.withColumn('Full Name',concat_ws(' ',col('firstname'),col('middlename'),col('lastname'))).show(truncate=False)"
   ]
  },
  {
   "cell_type": "code",
   "execution_count": 13,
   "id": "f8d03f4c",
   "metadata": {},
   "outputs": [
    {
     "name": "stdout",
     "output_type": "stream",
     "text": [
      "+----------------+------+------+\n",
      "|       Full Name|gender|salary|\n",
      "+----------------+------+------+\n",
      "|    James  Smith|     M|  3000|\n",
      "|   Michael Rose |     M|  4000|\n",
      "|Robert  Williams|     M|  4000|\n",
      "|Maria Anne Jones|     F|  4000|\n",
      "|  Jen Mary Brown|     F|    -1|\n",
      "+----------------+------+------+\n",
      "\n"
     ]
    }
   ],
   "source": [
    "df.select(concat_ws(' ',col('firstname'),col('middlename'),col('lastname')).alias('Full Name'),'gender','salary').show(truncate=True)"
   ]
  },
  {
   "cell_type": "code",
   "execution_count": 10,
   "id": "4da78b30",
   "metadata": {},
   "outputs": [
    {
     "name": "stdout",
     "output_type": "stream",
     "text": [
      "+---------+----------+--------+----------+------+------+--------------+\n",
      "|firstname|middlename|lastname|       dob|gender|salary|     Full Name|\n",
      "+---------+----------+--------+----------+------+------+--------------+\n",
      "|    James|          |   Smith|1991-04-01|     M|  3000|    JamesSmith|\n",
      "|  Michael|      Rose|        |2000-05-19|     M|  4000|   MichaelRose|\n",
      "|   Robert|          |Williams|1978-09-05|     M|  4000|RobertWilliams|\n",
      "|    Maria|      Anne|   Jones|1967-12-01|     F|  4000|MariaAnneJones|\n",
      "|      Jen|      Mary|   Brown|1980-02-17|     F|    -1|  JenMaryBrown|\n",
      "+---------+----------+--------+----------+------+------+--------------+\n",
      "\n"
     ]
    }
   ],
   "source": [
    "df.withColumn('Full Name',concat(col('firstname'),col('middlename'),col('lastname'))).show(truncate=True)"
   ]
  },
  {
   "cell_type": "code",
   "execution_count": 18,
   "id": "51599e55",
   "metadata": {},
   "outputs": [
    {
     "name": "stdout",
     "output_type": "stream",
     "text": [
      "+----------------+------+------+\n",
      "|        FullName|gender|salary|\n",
      "+----------------+------+------+\n",
      "|    James  Smith|     M|  3000|\n",
      "|   Michael Rose |     M|  4000|\n",
      "|Robert  Williams|     M|  4000|\n",
      "|Maria Anne Jones|     F|  4000|\n",
      "|  Jen Mary Brown|     F|    -1|\n",
      "+----------------+------+------+\n",
      "\n"
     ]
    }
   ],
   "source": [
    "df.createOrReplaceTempView('employee')\n",
    "spark.sql(\"select concat_ws(' ',firstname,middlename,lastname) as FullName,gender,salary from employee\").show()"
   ]
  },
  {
   "cell_type": "code",
   "execution_count": null,
   "id": "e053d643",
   "metadata": {},
   "outputs": [],
   "source": []
  }
 ],
 "metadata": {
  "kernelspec": {
   "display_name": "Python 3 (ipykernel)",
   "language": "python",
   "name": "python3"
  },
  "language_info": {
   "codemirror_mode": {
    "name": "ipython",
    "version": 3
   },
   "file_extension": ".py",
   "mimetype": "text/x-python",
   "name": "python",
   "nbconvert_exporter": "python",
   "pygments_lexer": "ipython3",
   "version": "3.9.7"
  }
 },
 "nbformat": 4,
 "nbformat_minor": 5
}
