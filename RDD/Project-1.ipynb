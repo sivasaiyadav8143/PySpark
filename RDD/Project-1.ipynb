{
 "cells": [
  {
   "cell_type": "code",
   "execution_count": 1,
   "id": "8026f78e",
   "metadata": {},
   "outputs": [],
   "source": [
    "from pyspark import SparkConf, SparkContext\n",
    "conf = SparkConf().setAppName(\"Quiz\")\n",
    "sc = SparkContext.getOrCreate(conf=conf)"
   ]
  },
  {
   "cell_type": "code",
   "execution_count": 2,
   "id": "428aa07d",
   "metadata": {},
   "outputs": [
    {
     "data": {
      "text/plain": [
       "['Hello Pyspark.',\n",
       " 'I am learning Pyspark.',\n",
       " 'This is Line 1',\n",
       " 'This is Line 2']"
      ]
     },
     "execution_count": 2,
     "metadata": {},
     "output_type": "execute_result"
    }
   ],
   "source": [
    "rdd = sc.textFile('D:\\Sample.txt')\n",
    "rdd.collect()"
   ]
  },
  {
   "cell_type": "code",
   "execution_count": 3,
   "id": "0d265bb5",
   "metadata": {},
   "outputs": [],
   "source": [
    "flatMappedRdd = rdd.flatMap(lambda x: x.split(' '))"
   ]
  },
  {
   "cell_type": "code",
   "execution_count": 8,
   "id": "8732994d",
   "metadata": {},
   "outputs": [],
   "source": [
    "def filterAandC(x):\n",
    "    if x.startswith('P') or x.startswith('L'):\n",
    "        return True\n",
    "    else:\n",
    "        return False\n",
    "filteredRdd = flatMappedRdd.filter(filterAandC)"
   ]
  },
  {
   "cell_type": "code",
   "execution_count": 9,
   "id": "02a08415",
   "metadata": {},
   "outputs": [
    {
     "data": {
      "text/plain": [
       "['Pyspark.', 'Pyspark.', 'Line', 'Line']"
      ]
     },
     "execution_count": 9,
     "metadata": {},
     "output_type": "execute_result"
    }
   ],
   "source": [
    "filteredRdd.collect()"
   ]
  },
  {
   "cell_type": "code",
   "execution_count": 11,
   "id": "e8094547",
   "metadata": {},
   "outputs": [
    {
     "data": {
      "text/plain": [
       "['Hello', 'I', 'am', 'learning', 'This', 'is', '1', 'This', 'is', '2']"
      ]
     },
     "execution_count": 11,
     "metadata": {},
     "output_type": "execute_result"
    }
   ],
   "source": [
    "filteredRddLambda = flatMappedRdd.filter(lambda x: not (x.startswith('P') or x.startswith('L')) )\n",
    "filteredRddLambda.collect()"
   ]
  },
  {
   "cell_type": "code",
   "execution_count": null,
   "id": "ee5fd762",
   "metadata": {},
   "outputs": [],
   "source": []
  }
 ],
 "metadata": {
  "kernelspec": {
   "display_name": "Python 3 (ipykernel)",
   "language": "python",
   "name": "python3"
  },
  "language_info": {
   "codemirror_mode": {
    "name": "ipython",
    "version": 3
   },
   "file_extension": ".py",
   "mimetype": "text/x-python",
   "name": "python",
   "nbconvert_exporter": "python",
   "pygments_lexer": "ipython3",
   "version": "3.9.7"
  }
 },
 "nbformat": 4,
 "nbformat_minor": 5
}
