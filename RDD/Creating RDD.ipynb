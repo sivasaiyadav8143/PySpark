{
 "cells": [
  {
   "cell_type": "code",
   "execution_count": 1,
   "id": "dcb82ca3",
   "metadata": {},
   "outputs": [],
   "source": [
    "from pyspark import SparkConf, SparkContext"
   ]
  },
  {
   "cell_type": "code",
   "execution_count": 2,
   "id": "1ce97278",
   "metadata": {},
   "outputs": [],
   "source": [
    "conf = SparkConf().setAppName('Read File')\n",
    "sc = SparkContext.getOrCreate(conf)"
   ]
  },
  {
   "cell_type": "code",
   "execution_count": 3,
   "id": "2fe22b17",
   "metadata": {},
   "outputs": [],
   "source": [
    "data = sc.textFile('D:\\Sample.txt')"
   ]
  },
  {
   "cell_type": "code",
   "execution_count": 4,
   "id": "9e8f85bf",
   "metadata": {},
   "outputs": [
    {
     "data": {
      "text/plain": [
       "D:\\Sample.txt MapPartitionsRDD[1] at textFile at NativeMethodAccessorImpl.java:0"
      ]
     },
     "execution_count": 4,
     "metadata": {},
     "output_type": "execute_result"
    }
   ],
   "source": [
    "# transformation is performed\n",
    "data"
   ]
  },
  {
   "cell_type": "code",
   "execution_count": 5,
   "id": "b99730ed",
   "metadata": {},
   "outputs": [
    {
     "data": {
      "text/plain": [
       "['Hello Pyspark.', 'I am learning Pyspark.']"
      ]
     },
     "execution_count": 5,
     "metadata": {},
     "output_type": "execute_result"
    }
   ],
   "source": [
    "# action is performed\n",
    "data.collect()"
   ]
  },
  {
   "cell_type": "code",
   "execution_count": null,
   "id": "d1018dc0",
   "metadata": {},
   "outputs": [],
   "source": []
  }
 ],
 "metadata": {
  "kernelspec": {
   "display_name": "Python 3 (ipykernel)",
   "language": "python",
   "name": "python3"
  },
  "language_info": {
   "codemirror_mode": {
    "name": "ipython",
    "version": 3
   },
   "file_extension": ".py",
   "mimetype": "text/x-python",
   "name": "python",
   "nbconvert_exporter": "python",
   "pygments_lexer": "ipython3",
   "version": "3.9.7"
  }
 },
 "nbformat": 4,
 "nbformat_minor": 5
}
