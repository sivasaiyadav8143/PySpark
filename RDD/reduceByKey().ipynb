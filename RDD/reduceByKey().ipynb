{
 "cells": [
  {
   "cell_type": "markdown",
   "id": "db416f64",
   "metadata": {},
   "source": [
    "1. It is used to merge the values of each key using a reduce function.\n",
    "2. It is a wider transformation as it shuffles data across multiple partitions\n",
    "3. It operates on pair RDD (key/value pair)."
   ]
  },
  {
   "cell_type": "code",
   "execution_count": 1,
   "id": "b028973a",
   "metadata": {},
   "outputs": [],
   "source": [
    "from pyspark import SparkConf, SparkContext\n",
    "conf = SparkConf().setAppName('reduceByKey')\n",
    "sc = SparkContext.getOrCreate(conf)"
   ]
  },
  {
   "cell_type": "code",
   "execution_count": 4,
   "id": "9f96c8c9",
   "metadata": {},
   "outputs": [
    {
     "data": {
      "text/plain": [
       "[('Project', 1),\n",
       " ('Gutenberg’s', 1),\n",
       " ('Alice’s', 1),\n",
       " ('Adventures', 1),\n",
       " ('in', 1),\n",
       " ('Wonderland', 1),\n",
       " ('Project', 1),\n",
       " ('Gutenberg’s', 1),\n",
       " ('Adventures', 1),\n",
       " ('in', 1),\n",
       " ('Wonderland', 1),\n",
       " ('Project', 1),\n",
       " ('Gutenberg’s', 1)]"
      ]
     },
     "execution_count": 4,
     "metadata": {},
     "output_type": "execute_result"
    }
   ],
   "source": [
    "data = [(\"Project\", 1),\n",
    "  (\"Gutenberg’s\", 1),\n",
    "  (\"Alice’s\", 1),\n",
    "  (\"Adventures\", 1),\n",
    "  (\"in\", 1),\n",
    "  (\"Wonderland\", 1),\n",
    "  (\"Project\", 1),\n",
    "  (\"Gutenberg’s\", 1),\n",
    "  (\"Adventures\", 1),\n",
    "  (\"in\", 1),\n",
    "  (\"Wonderland\", 1),\n",
    "  (\"Project\", 1),\n",
    "  (\"Gutenberg’s\", 1)]\n",
    "\n",
    "rdd = sc.parallelize(data)\n",
    "rdd.collect()"
   ]
  },
  {
   "cell_type": "code",
   "execution_count": 9,
   "id": "6cbe34b6",
   "metadata": {},
   "outputs": [
    {
     "data": {
      "text/plain": [
       "[('Gutenberg’s', 3),\n",
       " ('Adventures', 2),\n",
       " ('Wonderland', 2),\n",
       " ('Alice’s', 1),\n",
       " ('in', 2),\n",
       " ('Project', 3)]"
      ]
     },
     "execution_count": 9,
     "metadata": {},
     "output_type": "execute_result"
    }
   ],
   "source": [
    "rdd2 = rdd.reduceByKey(lambda x,y: x+y)\n",
    "rdd2.collect()"
   ]
  },
  {
   "cell_type": "code",
   "execution_count": null,
   "id": "2e99e45a",
   "metadata": {},
   "outputs": [],
   "source": []
  }
 ],
 "metadata": {
  "kernelspec": {
   "display_name": "Python 3 (ipykernel)",
   "language": "python",
   "name": "python3"
  },
  "language_info": {
   "codemirror_mode": {
    "name": "ipython",
    "version": 3
   },
   "file_extension": ".py",
   "mimetype": "text/x-python",
   "name": "python",
   "nbconvert_exporter": "python",
   "pygments_lexer": "ipython3",
   "version": "3.9.7"
  }
 },
 "nbformat": 4,
 "nbformat_minor": 5
}
